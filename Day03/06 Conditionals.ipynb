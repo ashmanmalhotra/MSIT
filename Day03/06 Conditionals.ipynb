{
 "cells": [
  {
   "cell_type": "markdown",
   "metadata": {},
   "source": [
    "# If Statement"
   ]
  },
  {
   "cell_type": "code",
   "execution_count": 2,
   "metadata": {},
   "outputs": [
    {
     "name": "stdout",
     "output_type": "stream",
     "text": [
      "20 is greater than 10\n",
      "This statement is outside the if blocks.\n"
     ]
    }
   ],
   "source": [
    "a = 10\n",
    "b = 20\n",
    "\n",
    "if a > b:\n",
    "    print(a, \"is greater than\", b)\n",
    "else:\n",
    "    print(b, \"is greater than\", a)\n",
    "print(\"This statement is outside the if blocks.\")"
   ]
  },
  {
   "cell_type": "code",
   "execution_count": 4,
   "metadata": {},
   "outputs": [
    {
     "name": "stdout",
     "output_type": "stream",
     "text": [
      "You can afford to enjoy apple.\n"
     ]
    }
   ],
   "source": [
    "fruit = \"apple\"\n",
    "funds = 30\n",
    "\n",
    "if fruit==\"apple\":\n",
    "    if funds > 25:\n",
    "        print(\"You can afford to enjoy apple.\")\n",
    "    else:\n",
    "        print(\"You need more funds.\")\n",
    "else:\n",
    "    print(\"We don't have any other fruit in stock.\")"
   ]
  },
  {
   "cell_type": "markdown",
   "metadata": {},
   "source": [
    "# if elif statement"
   ]
  },
  {
   "cell_type": "code",
   "execution_count": 9,
   "metadata": {},
   "outputs": [
    {
     "name": "stdout",
     "output_type": "stream",
     "text": [
      "Fruit is not in stock.\n"
     ]
    }
   ],
   "source": [
    "fruit = \"pineapple\"\n",
    "\n",
    "if fruit==\"apple\":\n",
    "    print(\"Price of Apple : 50\")\n",
    "elif fruit == \"mango\":\n",
    "    print(\"Price of Mango : 90\")\n",
    "elif fruit == \"peach\":\n",
    "    print(\"Price of Peach : 120\")\n",
    "elif fruit == \"kiwi\":\n",
    "    print(\"Price of Kiwi : 20\")\n",
    "else:\n",
    "    print(\"Fruit is not in stock.\")"
   ]
  },
  {
   "cell_type": "code",
   "execution_count": null,
   "metadata": {},
   "outputs": [],
   "source": []
  }
 ],
 "metadata": {
  "kernelspec": {
   "display_name": "Python 3",
   "language": "python",
   "name": "python3"
  },
  "language_info": {
   "codemirror_mode": {
    "name": "ipython",
    "version": 3
   },
   "file_extension": ".py",
   "mimetype": "text/x-python",
   "name": "python",
   "nbconvert_exporter": "python",
   "pygments_lexer": "ipython3",
   "version": "3.7.0"
  }
 },
 "nbformat": 4,
 "nbformat_minor": 2
}
