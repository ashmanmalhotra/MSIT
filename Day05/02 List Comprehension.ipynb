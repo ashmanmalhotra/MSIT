{
 "cells": [
  {
   "cell_type": "markdown",
   "metadata": {},
   "source": [
    "# List Comprehension"
   ]
  },
  {
   "cell_type": "code",
   "execution_count": 1,
   "metadata": {},
   "outputs": [
    {
     "name": "stdout",
     "output_type": "stream",
     "text": [
      "['E', 'n', 'g', 'l', 'i', 's', 'h']\n"
     ]
    }
   ],
   "source": [
    "word = \"English\"\n",
    "LL = []\n",
    "\n",
    "for ch in word:\n",
    "    LL.append(ch)\n",
    "\n",
    "print(LL)"
   ]
  },
  {
   "cell_type": "code",
   "execution_count": 2,
   "metadata": {},
   "outputs": [
    {
     "name": "stdout",
     "output_type": "stream",
     "text": [
      "['E', 'n', 'g', 'l', 'i', 's', 'h']\n"
     ]
    }
   ],
   "source": [
    "word = \"English\"\n",
    "LL = [ch for ch in word]\n",
    "print(LL)"
   ]
  },
  {
   "cell_type": "code",
   "execution_count": 5,
   "metadata": {},
   "outputs": [
    {
     "data": {
      "text/plain": [
       "[0, 1, 4, 9, 16, 25, 36, 49, 64, 81, 100]"
      ]
     },
     "execution_count": 5,
     "metadata": {},
     "output_type": "execute_result"
    }
   ],
   "source": [
    "sqnum = [ num**2 for num in range(0, 11)]\n",
    "sqnum"
   ]
  },
  {
   "cell_type": "code",
   "execution_count": 7,
   "metadata": {},
   "outputs": [
    {
     "name": "stdout",
     "output_type": "stream",
     "text": [
      "[16, 81, 256, 625, 1296, 2401, 4096, 6561, 10000]\n"
     ]
    }
   ],
   "source": [
    "numlist = [4, 9, 16, 25, 36, 49, 64, 81, 100]\n",
    "sqnum   = [num**2 for num in numlist]\n",
    "print(sqnum)"
   ]
  },
  {
   "cell_type": "code",
   "execution_count": 8,
   "metadata": {},
   "outputs": [
    {
     "name": "stdout",
     "output_type": "stream",
     "text": [
      "[16, 256, 1296, 4096, 10000]\n"
     ]
    }
   ],
   "source": [
    "# Find even numbers from  a given list using List Comprehension\n",
    "# Given List -> [16, 81, 256, 625, 1296, 2401, 4096, 6561, 10000]\n",
    "x = [16, 81, 256, 625, 1296, 2401, 4096, 6561, 10000]\n",
    "evenlist = [num for num in x if num % 2 == 0]\n",
    "print(evenlist)"
   ]
  },
  {
   "cell_type": "code",
   "execution_count": 10,
   "metadata": {},
   "outputs": [
    {
     "data": {
      "text/plain": [
       "[1,\n",
       " 16,\n",
       " 81,\n",
       " 256,\n",
       " 625,\n",
       " 1296,\n",
       " 2401,\n",
       " 4096,\n",
       " 6561,\n",
       " 10000,\n",
       " 14641,\n",
       " 20736,\n",
       " 28561,\n",
       " 38416,\n",
       " 50625,\n",
       " 65536,\n",
       " 83521,\n",
       " 104976,\n",
       " 130321]"
      ]
     },
     "execution_count": 10,
     "metadata": {},
     "output_type": "execute_result"
    }
   ],
   "source": [
    "reslist = [num**2 for num in [num**2 for num in range(1, 20)]]\n",
    "reslist"
   ]
  },
  {
   "cell_type": "code",
   "execution_count": 14,
   "metadata": {},
   "outputs": [
    {
     "data": {
      "text/plain": [
       "[True, False, True, False, True, False]"
      ]
     },
     "execution_count": 14,
     "metadata": {},
     "output_type": "execute_result"
    }
   ],
   "source": [
    "x   = list(range(6))\n",
    "xeo = [True if num%2==0 else False for num in x]\n",
    "xeo"
   ]
  },
  {
   "cell_type": "code",
   "execution_count": 13,
   "metadata": {},
   "outputs": [
    {
     "data": {
      "text/plain": [
       "[('Jalandhar', 9),\n",
       " ('Ludhiana', 8),\n",
       " ('Patiala', 7),\n",
       " ('Delhi', 5),\n",
       " ('Jaipur', 6)]"
      ]
     },
     "execution_count": 13,
     "metadata": {},
     "output_type": "execute_result"
    }
   ],
   "source": [
    "cities  = ['Jalandhar', 'Ludhiana', 'Patiala', 'Delhi', 'Jaipur']\n",
    "citylen = [(city, len(city)) for city in cities]\n",
    "citylen"
   ]
  },
  {
   "cell_type": "code",
   "execution_count": null,
   "metadata": {},
   "outputs": [],
   "source": []
  }
 ],
 "metadata": {
  "kernelspec": {
   "display_name": "Python 3",
   "language": "python",
   "name": "python3"
  },
  "language_info": {
   "codemirror_mode": {
    "name": "ipython",
    "version": 3
   },
   "file_extension": ".py",
   "mimetype": "text/x-python",
   "name": "python",
   "nbconvert_exporter": "python",
   "pygments_lexer": "ipython3",
   "version": "3.7.0"
  }
 },
 "nbformat": 4,
 "nbformat_minor": 2
}
