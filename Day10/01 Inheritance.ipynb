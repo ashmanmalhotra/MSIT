{
 "cells": [
  {
   "cell_type": "markdown",
   "metadata": {},
   "source": [
    "## Multilevel Inheritance"
   ]
  },
  {
   "cell_type": "code",
   "execution_count": 11,
   "metadata": {},
   "outputs": [],
   "source": [
    "class AA:\n",
    "    def __init__(self):\n",
    "        print(\"Initiated AA Constructor.\")\n",
    "\n",
    "class BB(AA):\n",
    "    def __init__(self):\n",
    "        print(\"Initiated BB Constructor.\")\n",
    "\n",
    "class CC(BB):\n",
    "    def __init__(self):\n",
    "        print(\"Initiated CC Constructor.\")\n",
    "        super().__init__()\n",
    "        BB.__init__(self)\n",
    "        AA.__init__(self)"
   ]
  },
  {
   "cell_type": "code",
   "execution_count": 12,
   "metadata": {},
   "outputs": [
    {
     "name": "stdout",
     "output_type": "stream",
     "text": [
      "Initiated CC Constructor.\n",
      "Initiated BB Constructor.\n",
      "Initiated BB Constructor.\n",
      "Initiated AA Constructor.\n"
     ]
    }
   ],
   "source": [
    "ccobj = CC()"
   ]
  },
  {
   "cell_type": "code",
   "execution_count": 17,
   "metadata": {},
   "outputs": [],
   "source": [
    "class AA:\n",
    "    def __init__(self):\n",
    "        print(\"Initiated AA Constructor.\")\n",
    "\n",
    "class BB:\n",
    "    def __init__(self):\n",
    "        print(\"Initiated BB Constructor.\")\n",
    "\n",
    "class CC(AA, BB):\n",
    "    def __init__(self):\n",
    "        print(\"Initiated CC Constructor.\")\n",
    "        AA.__init__(self)\n",
    "        BB.__init__(self)"
   ]
  },
  {
   "cell_type": "code",
   "execution_count": 18,
   "metadata": {},
   "outputs": [
    {
     "name": "stdout",
     "output_type": "stream",
     "text": [
      "Initiated CC Constructor.\n",
      "Initiated AA Constructor.\n",
      "Initiated BB Constructor.\n"
     ]
    }
   ],
   "source": [
    "ccobj = CC()"
   ]
  },
  {
   "cell_type": "code",
   "execution_count": 20,
   "metadata": {},
   "outputs": [
    {
     "name": "stdout",
     "output_type": "stream",
     "text": [
      "First Name :  Naman\n",
      "Last Name  :  Aggarwal\n"
     ]
    }
   ],
   "source": [
    "class ApplicantName:\n",
    "    def __init__(self, **kwargs):\n",
    "        self.fname = kwargs['fname']\n",
    "        self.lname = kwargs['lname']\n",
    "    def getName(self):\n",
    "        print(\"First Name : \", self.fname)\n",
    "        print(\"Last Name  : \", self.lname)\n",
    "\n",
    "user = ApplicantName(fname = \"Naman\", lname=\"Aggarwal\")\n",
    "user.getName()"
   ]
  },
  {
   "cell_type": "code",
   "execution_count": null,
   "metadata": {},
   "outputs": [],
   "source": []
  },
  {
   "cell_type": "code",
   "execution_count": null,
   "metadata": {},
   "outputs": [],
   "source": []
  },
  {
   "cell_type": "code",
   "execution_count": 22,
   "metadata": {},
   "outputs": [
    {
     "name": "stdout",
     "output_type": "stream",
     "text": [
      "7    7\n"
     ]
    }
   ],
   "source": [
    "for n in [1,2,3,4,5,6,7]:\n",
    "    sum = n\n",
    "\n",
    "print(sum, \"  \", n)"
   ]
  },
  {
   "cell_type": "code",
   "execution_count": null,
   "metadata": {},
   "outputs": [],
   "source": []
  }
 ],
 "metadata": {
  "kernelspec": {
   "display_name": "Python 3",
   "language": "python",
   "name": "python3"
  },
  "language_info": {
   "codemirror_mode": {
    "name": "ipython",
    "version": 3
   },
   "file_extension": ".py",
   "mimetype": "text/x-python",
   "name": "python",
   "nbconvert_exporter": "python",
   "pygments_lexer": "ipython3",
   "version": "3.7.0"
  }
 },
 "nbformat": 4,
 "nbformat_minor": 2
}
