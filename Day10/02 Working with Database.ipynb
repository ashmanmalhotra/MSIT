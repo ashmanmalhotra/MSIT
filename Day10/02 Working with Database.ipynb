{
 "cells": [
  {
   "cell_type": "markdown",
   "metadata": {},
   "source": [
    "# Working with Databases - MySQL Database"
   ]
  },
  {
   "cell_type": "code",
   "execution_count": 1,
   "metadata": {},
   "outputs": [],
   "source": [
    "import pymysql"
   ]
  },
  {
   "cell_type": "markdown",
   "metadata": {},
   "source": [
    "#### Connection to the Database"
   ]
  },
  {
   "cell_type": "code",
   "execution_count": 8,
   "metadata": {},
   "outputs": [],
   "source": [
    "conn = pymysql.Connect(host=\"localhost\", user=\"root\", password=\"\", db=\"msit\")\n",
    "cursor = conn.cursor()\n",
    "cursor.close()\n",
    "conn.close()"
   ]
  },
  {
   "cell_type": "markdown",
   "metadata": {},
   "source": [
    "#### Creating Table in Database"
   ]
  },
  {
   "cell_type": "code",
   "execution_count": 9,
   "metadata": {},
   "outputs": [],
   "source": [
    "conn = pymysql.Connect(host=\"localhost\", user=\"root\", password=\"\", db=\"msit\")\n",
    "cursor = conn.cursor()\n",
    "\n",
    "sql = \"\"\"\n",
    "CREATE TABLE address (id INT(20) PRIMARY KEY AUTO_INCREMENT,\n",
    "name VARCHAR(50) NOT NULL,\n",
    "city VARCHAR(50) NOT NULL\n",
    ");\"\"\"\n",
    "\n",
    "cursor.execute(sql)\n",
    "cursor.close()\n",
    "conn.close()"
   ]
  },
  {
   "cell_type": "markdown",
   "metadata": {},
   "source": [
    "#### Inserting Data to table"
   ]
  },
  {
   "cell_type": "code",
   "execution_count": 12,
   "metadata": {},
   "outputs": [],
   "source": [
    "conn = pymysql.Connect(host=\"localhost\", user=\"root\", password=\"\", db=\"msit\")\n",
    "cursor = conn.cursor()\n",
    "\n",
    "sql1 = \" INSERT INTO students (id, fname, lname, city) VALUES (NULL, 'Deepak', 'Bahl', 'Ropar');\"\n",
    "sql2 = \" INSERT INTO students (id, fname, lname, city) VALUES (NULL, 'Jagjit', 'Singh', 'Panipat');\"\n",
    "\n",
    "cursor.execute(sql1)\n",
    "cursor.execute(sql2)\n",
    "\n",
    "conn.commit()\n",
    "cursor.close()\n",
    "conn.close()"
   ]
  },
  {
   "cell_type": "markdown",
   "metadata": {},
   "source": [
    "#### Querying Data"
   ]
  },
  {
   "cell_type": "code",
   "execution_count": 14,
   "metadata": {},
   "outputs": [
    {
     "name": "stdout",
     "output_type": "stream",
     "text": [
      "(1, 'Naman', 'Aggarwal', 'New Delhi')\n",
      "(2, 'Nishant', 'Chaubey', 'Jharkhand')\n"
     ]
    }
   ],
   "source": [
    "conn = pymysql.Connect(host=\"localhost\", user=\"root\", password=\"\", db=\"msit\")\n",
    "cursor = conn.cursor()\n",
    "\n",
    "sql = \"SELECT id, fname, lname, city FROM students;\"\n",
    "\n",
    "cursor.execute(sql)\n",
    "\n",
    "row = cursor.fetchone()\n",
    "print(row)\n",
    "\n",
    "row = cursor.fetchone()\n",
    "print(row)\n",
    "\n",
    "cursor.close()\n",
    "conn.close()"
   ]
  },
  {
   "cell_type": "code",
   "execution_count": 22,
   "metadata": {},
   "outputs": [
    {
     "name": "stdout",
     "output_type": "stream",
     "text": [
      "id\tFName\t\tLName\t\tCity\n",
      "----------------------------------------\n",
      "1\tNaman\tAggarwal\tNew Delhi\n",
      "2\tNishant\tChaubey\tJharkhand\n",
      "3\tMohit\tPandhi\tAnritsar\n",
      "4\tAshman\tMalhotra\tPatiala\n",
      "6\tMohit\tKumar\tJagadhari\n"
     ]
    }
   ],
   "source": [
    "conn = pymysql.Connect(host=\"localhost\", user=\"root\", password=\"\", db=\"msit\")\n",
    "cursor = conn.cursor()\n",
    "\n",
    "sql = \"SELECT id, fname, lname, city FROM students;\"\n",
    "\n",
    "cursor.execute(sql)\n",
    "\n",
    "rows = cursor.fetchmany(5)\n",
    "\n",
    "print(\"id\\tFName\\t\\tLName\\t\\tCity\")\n",
    "print(\"-\"*40)\n",
    "for row in rows:\n",
    "    print(row[0], \"\\t\", row[1].strip(), \"\\t\", row[2].strip(), \"\\t\", row[3].strip(), sep=\"\")\n",
    "    \n",
    "cursor.close()\n",
    "conn.close()"
   ]
  },
  {
   "cell_type": "code",
   "execution_count": 23,
   "metadata": {},
   "outputs": [
    {
     "name": "stdout",
     "output_type": "stream",
     "text": [
      "id\tFName\t\tLName\t\tCity\n",
      "----------------------------------------\n",
      "1\tNaman\tAggarwal\tNew Delhi\n",
      "2\tNishant\tChaubey\tJharkhand\n",
      "3\tMohit\tPandhi\tAnritsar\n",
      "4\tAshman\tMalhotra\tPatiala\n",
      "6\tMohit\tKumar\tJagadhari\n",
      "7\tDeepak\tBahl\tRopar\n",
      "8\tJagjit\tSingh\tPanipat\n"
     ]
    }
   ],
   "source": [
    "conn = pymysql.Connect(host=\"localhost\", user=\"root\", password=\"\", db=\"msit\")\n",
    "cursor = conn.cursor()\n",
    "\n",
    "sql = \"SELECT id, fname, lname, city FROM students;\"\n",
    "\n",
    "cursor.execute(sql)\n",
    "\n",
    "rows = cursor.fetchall()\n",
    "\n",
    "print(\"id\\tFName\\t\\tLName\\t\\tCity\")\n",
    "print(\"-\"*40)\n",
    "for row in rows:\n",
    "    print(row[0], \"\\t\", row[1].strip(), \"\\t\", row[2].strip(), \"\\t\", row[3].strip(), sep=\"\")\n",
    "    \n",
    "cursor.close()\n",
    "conn.close()"
   ]
  },
  {
   "cell_type": "code",
   "execution_count": 26,
   "metadata": {},
   "outputs": [
    {
     "name": "stdout",
     "output_type": "stream",
     "text": [
      "id  FName                LName                City                \n",
      "---------------------------------------------------------------\n",
      "1   Naman                Aggarwal             New Delhi           \n",
      "2   Nishant              Chaubey              Jharkhand           \n",
      "3   Mohit                Pandhi               Anritsar            \n",
      "4   Ashman               Malhotra             Patiala             \n",
      "6   Mohit                Kumar                Jagadhari           \n"
     ]
    }
   ],
   "source": [
    "import pymysql\n",
    "\n",
    "conn = pymysql.Connect(host=\"localhost\", user=\"root\", password=\"\", db=\"msit\")\n",
    "cursor = conn.cursor()\n",
    "\n",
    "sql = \"SELECT id, fname, lname, city FROM students;\"\n",
    "\n",
    "cursor.execute(sql)\n",
    "\n",
    "rows = cursor.fetchmany(5)\n",
    "\n",
    "print(\"{0:<3} {1:<20} {2:<20} {3:<20}\" .format('id', 'FName', 'LName', 'City'))\n",
    "print(\"-\"*63)\n",
    "for row in rows:\n",
    "    print('{0:<3} {1:<20} {2:<20} {3:<20}' .format(row[0], row[1], row[2], row[3]))\n",
    "\n",
    "cursor.close()\n",
    "conn.close()"
   ]
  },
  {
   "cell_type": "code",
   "execution_count": null,
   "metadata": {},
   "outputs": [],
   "source": []
  }
 ],
 "metadata": {
  "kernelspec": {
   "display_name": "Python 3",
   "language": "python",
   "name": "python3"
  },
  "language_info": {
   "codemirror_mode": {
    "name": "ipython",
    "version": 3
   },
   "file_extension": ".py",
   "mimetype": "text/x-python",
   "name": "python",
   "nbconvert_exporter": "python",
   "pygments_lexer": "ipython3",
   "version": "3.7.0"
  }
 },
 "nbformat": 4,
 "nbformat_minor": 2
}
