{
 "cells": [
  {
   "cell_type": "markdown",
   "metadata": {},
   "source": [
    "# Lambda Expression"
   ]
  },
  {
   "cell_type": "code",
   "execution_count": 1,
   "metadata": {},
   "outputs": [
    {
     "name": "stdout",
     "output_type": "stream",
     "text": [
      "100\n"
     ]
    }
   ],
   "source": [
    "# Normal Function - Calculate the Square of the number\n",
    "def sqnum(num):\n",
    "    return num ** 2\n",
    "\n",
    "print(sqnum(10))"
   ]
  },
  {
   "cell_type": "code",
   "execution_count": 2,
   "metadata": {},
   "outputs": [
    {
     "data": {
      "text/plain": [
       "100"
      ]
     },
     "execution_count": 2,
     "metadata": {},
     "output_type": "execute_result"
    }
   ],
   "source": [
    "# Lambda Expressions - Calculate the square of the numbers\n",
    "sqnum = lambda num : num**2\n",
    "sqnum(10)"
   ]
  },
  {
   "cell_type": "code",
   "execution_count": 3,
   "metadata": {},
   "outputs": [
    {
     "data": {
      "text/plain": [
       "30"
      ]
     },
     "execution_count": 3,
     "metadata": {},
     "output_type": "execute_result"
    }
   ],
   "source": [
    "# Lambda Expressions - Calculate the Sum of two numbers\n",
    "addtwonum = lambda num1, num2 : num1+num2\n",
    "addtwonum(10, 20)"
   ]
  },
  {
   "cell_type": "code",
   "execution_count": 4,
   "metadata": {},
   "outputs": [
    {
     "name": "stdout",
     "output_type": "stream",
     "text": [
      "H\n"
     ]
    }
   ],
   "source": [
    "# Lambda Expression - Return First Character of the String\n",
    "strfrstchar = lambda msg : msg[0]\n",
    "print(strfrstchar(\"Hello\"))"
   ]
  },
  {
   "cell_type": "code",
   "execution_count": 5,
   "metadata": {},
   "outputs": [
    {
     "name": "stdout",
     "output_type": "stream",
     "text": [
      "Ashman\n"
     ]
    }
   ],
   "source": [
    "# Lambda Expression - Return First Name of the User from Full name\n",
    "firstname = lambda name : name.split(' ')[0]\n",
    "print(firstname('Ashman Malhotra'))"
   ]
  },
  {
   "cell_type": "code",
   "execution_count": 6,
   "metadata": {},
   "outputs": [
    {
     "name": "stdout",
     "output_type": "stream",
     "text": [
      "moorssalc\n"
     ]
    }
   ],
   "source": [
    "# Lambda Expression - Reverse the string\n",
    "strrev = lambda msg : msg[-1::-1]\n",
    "print(strrev('classroom'))"
   ]
  },
  {
   "cell_type": "code",
   "execution_count": 43,
   "metadata": {},
   "outputs": [],
   "source": [
    "city = ['  delhi ', '   Jagadhari ', 'Ambala', '    panipat', 'PATIALA', ' Jammu', '  murthal']"
   ]
  },
  {
   "cell_type": "code",
   "execution_count": 44,
   "metadata": {},
   "outputs": [
    {
     "data": {
      "text/plain": [
       "['  delhi ',\n",
       " '   Jagadhari ',\n",
       " 'Ambala',\n",
       " '    panipat',\n",
       " 'PATIALA',\n",
       " ' Jammu',\n",
       " '  murthal']"
      ]
     },
     "execution_count": 44,
     "metadata": {},
     "output_type": "execute_result"
    }
   ],
   "source": [
    "city"
   ]
  },
  {
   "cell_type": "code",
   "execution_count": 45,
   "metadata": {},
   "outputs": [],
   "source": [
    "city.sort()"
   ]
  },
  {
   "cell_type": "code",
   "execution_count": 46,
   "metadata": {},
   "outputs": [
    {
     "data": {
      "text/plain": [
       "['    panipat',\n",
       " '   Jagadhari ',\n",
       " '  delhi ',\n",
       " '  murthal',\n",
       " ' Jammu',\n",
       " 'Ambala',\n",
       " 'PATIALA']"
      ]
     },
     "execution_count": 46,
     "metadata": {},
     "output_type": "execute_result"
    }
   ],
   "source": [
    "city"
   ]
  },
  {
   "cell_type": "code",
   "execution_count": 47,
   "metadata": {},
   "outputs": [],
   "source": [
    "# The above list is not sorted correctly"
   ]
  },
  {
   "cell_type": "code",
   "execution_count": 48,
   "metadata": {},
   "outputs": [],
   "source": [
    "# Let's sort it properly with Lambda Expression"
   ]
  },
  {
   "cell_type": "code",
   "execution_count": 50,
   "metadata": {},
   "outputs": [
    {
     "data": {
      "text/plain": [
       "['Ambala',\n",
       " '  delhi ',\n",
       " '   Jagadhari ',\n",
       " ' Jammu',\n",
       " '  murthal',\n",
       " '    panipat',\n",
       " 'PATIALA']"
      ]
     },
     "execution_count": 50,
     "metadata": {},
     "output_type": "execute_result"
    }
   ],
   "source": [
    "city.sort(key=lambda item:item.strip().upper())\n",
    "city"
   ]
  },
  {
   "cell_type": "code",
   "execution_count": null,
   "metadata": {},
   "outputs": [],
   "source": []
  }
 ],
 "metadata": {
  "kernelspec": {
   "display_name": "Python 3",
   "language": "python",
   "name": "python3"
  },
  "language_info": {
   "codemirror_mode": {
    "name": "ipython",
    "version": 3
   },
   "file_extension": ".py",
   "mimetype": "text/x-python",
   "name": "python",
   "nbconvert_exporter": "python",
   "pygments_lexer": "ipython3",
   "version": "3.7.0"
  }
 },
 "nbformat": 4,
 "nbformat_minor": 2
}
