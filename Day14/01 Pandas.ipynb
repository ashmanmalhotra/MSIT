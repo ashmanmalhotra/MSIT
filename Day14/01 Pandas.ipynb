{
 "cells": [
  {
   "cell_type": "markdown",
   "metadata": {},
   "source": [
    "# One Dimensional Labelled Array - Series"
   ]
  },
  {
   "cell_type": "code",
   "execution_count": 1,
   "metadata": {},
   "outputs": [],
   "source": [
    "# import libraries\n",
    "import numpy as np\n",
    "import pandas as pd"
   ]
  },
  {
   "cell_type": "code",
   "execution_count": 3,
   "metadata": {},
   "outputs": [
    {
     "data": {
      "text/plain": [
       "0    101\n",
       "1    102\n",
       "2    103\n",
       "3    104\n",
       "4    105\n",
       "dtype: int32"
      ]
     },
     "execution_count": 3,
     "metadata": {},
     "output_type": "execute_result"
    }
   ],
   "source": [
    "# Create Series containing 60 numbers 101-160\n",
    "datalist = np.arange(101, 160)\n",
    "srs1 = pd.Series(datalist)\n",
    "srs1.head()"
   ]
  },
  {
   "cell_type": "code",
   "execution_count": 4,
   "metadata": {},
   "outputs": [
    {
     "name": "stdout",
     "output_type": "stream",
     "text": [
      "<class 'pandas.core.series.Series'>\n"
     ]
    }
   ],
   "source": [
    "print(type(srs1))"
   ]
  },
  {
   "cell_type": "markdown",
   "metadata": {},
   "source": [
    "#### Series containing Boolean Data"
   ]
  },
  {
   "cell_type": "code",
   "execution_count": 5,
   "metadata": {},
   "outputs": [],
   "source": [
    "boolarray = np.array([True, False, True, False, True, False, True, True, True, True, False])\n",
    "srs1 = pd.Series(boolarray)"
   ]
  },
  {
   "cell_type": "code",
   "execution_count": 6,
   "metadata": {},
   "outputs": [
    {
     "data": {
      "text/plain": [
       "0      True\n",
       "1     False\n",
       "2      True\n",
       "3     False\n",
       "4      True\n",
       "5     False\n",
       "6      True\n",
       "7      True\n",
       "8      True\n",
       "9      True\n",
       "10    False\n",
       "dtype: bool"
      ]
     },
     "execution_count": 6,
     "metadata": {},
     "output_type": "execute_result"
    }
   ],
   "source": [
    "srs1"
   ]
  },
  {
   "cell_type": "markdown",
   "metadata": {},
   "source": [
    "#### Series containing Mixed Data"
   ]
  },
  {
   "cell_type": "code",
   "execution_count": 8,
   "metadata": {},
   "outputs": [],
   "source": [
    "boolarray = np.array([True, 34, 'True', 44, 'True', 'False', 23.356, 589562356, None])\n",
    "srs1 = pd.Series(boolarray)"
   ]
  },
  {
   "cell_type": "code",
   "execution_count": 9,
   "metadata": {},
   "outputs": [
    {
     "data": {
      "text/plain": [
       "0         True\n",
       "1           34\n",
       "2         True\n",
       "3           44\n",
       "4         True\n",
       "5        False\n",
       "6       23.356\n",
       "7    589562356\n",
       "8         None\n",
       "dtype: object"
      ]
     },
     "execution_count": 9,
     "metadata": {},
     "output_type": "execute_result"
    }
   ],
   "source": [
    "srs1"
   ]
  },
  {
   "cell_type": "code",
   "execution_count": 10,
   "metadata": {},
   "outputs": [
    {
     "data": {
      "text/plain": [
       "0    5\n",
       "1    5\n",
       "2    5\n",
       "3    5\n",
       "4    5\n",
       "5    5\n",
       "dtype: int64"
      ]
     },
     "execution_count": 10,
     "metadata": {},
     "output_type": "execute_result"
    }
   ],
   "source": [
    "# Series with constant data\n",
    "pd.Series(5, index=[0,1,2,3,4,5])"
   ]
  },
  {
   "cell_type": "code",
   "execution_count": 14,
   "metadata": {},
   "outputs": [
    {
     "data": {
      "text/plain": [
       "20     0\n",
       "21     2\n",
       "22     4\n",
       "23     6\n",
       "24     8\n",
       "25    10\n",
       "26    12\n",
       "27    14\n",
       "28    16\n",
       "29    18\n",
       "dtype: int64"
      ]
     },
     "execution_count": 14,
     "metadata": {},
     "output_type": "execute_result"
    }
   ],
   "source": [
    "# Series of 1st 10 Even numbers\n",
    "pd.Series(data=[num for num in range(0, 20, 2)], index=[n for n in range(20, 30)])"
   ]
  },
  {
   "cell_type": "code",
   "execution_count": 15,
   "metadata": {},
   "outputs": [
    {
     "data": {
      "text/plain": [
       "10      Ajay\n",
       "11    Kelvin\n",
       "12     Edwin\n",
       "13    Tracey\n",
       "14    Robort\n",
       "dtype: object"
      ]
     },
     "execution_count": 15,
     "metadata": {},
     "output_type": "execute_result"
    }
   ],
   "source": [
    "# Series from a dictionary\n",
    "students = {10:\"Ajay\", 11:\"Kelvin\", 12:\"Edwin\", 13:\"Tracey\", 14:\"Robort\"}\n",
    "pd.Series(students)"
   ]
  },
  {
   "cell_type": "markdown",
   "metadata": {},
   "source": [
    "#### Reading one Column CSV File as Series"
   ]
  },
  {
   "cell_type": "code",
   "execution_count": 16,
   "metadata": {},
   "outputs": [
    {
     "data": {
      "text/html": [
       "<div>\n",
       "<style scoped>\n",
       "    .dataframe tbody tr th:only-of-type {\n",
       "        vertical-align: middle;\n",
       "    }\n",
       "\n",
       "    .dataframe tbody tr th {\n",
       "        vertical-align: top;\n",
       "    }\n",
       "\n",
       "    .dataframe thead th {\n",
       "        text-align: right;\n",
       "    }\n",
       "</style>\n",
       "<table border=\"1\" class=\"dataframe\">\n",
       "  <thead>\n",
       "    <tr style=\"text-align: right;\">\n",
       "      <th></th>\n",
       "      <th>189.05</th>\n",
       "    </tr>\n",
       "  </thead>\n",
       "  <tbody>\n",
       "    <tr>\n",
       "      <th>0</th>\n",
       "      <td>999.50</td>\n",
       "    </tr>\n",
       "    <tr>\n",
       "      <th>1</th>\n",
       "      <td>179.64</td>\n",
       "    </tr>\n",
       "    <tr>\n",
       "      <th>2</th>\n",
       "      <td>539.73</td>\n",
       "    </tr>\n",
       "    <tr>\n",
       "      <th>3</th>\n",
       "      <td>167.44</td>\n",
       "    </tr>\n",
       "    <tr>\n",
       "      <th>4</th>\n",
       "      <td>299.40</td>\n",
       "    </tr>\n",
       "  </tbody>\n",
       "</table>\n",
       "</div>"
      ],
      "text/plain": [
       "   189.05\n",
       "0  999.50\n",
       "1  179.64\n",
       "2  539.73\n",
       "3  167.44\n",
       "4  299.40"
      ]
     },
     "execution_count": 16,
     "metadata": {},
     "output_type": "execute_result"
    }
   ],
   "source": [
    "srs1 = pd.read_csv('ProductTotalPrice.csv')\n",
    "srs1.head()"
   ]
  },
  {
   "cell_type": "code",
   "execution_count": 17,
   "metadata": {},
   "outputs": [
    {
     "data": {
      "text/plain": [
       "pandas.core.frame.DataFrame"
      ]
     },
     "execution_count": 17,
     "metadata": {},
     "output_type": "execute_result"
    }
   ],
   "source": [
    "type(srs1)"
   ]
  },
  {
   "cell_type": "code",
   "execution_count": 18,
   "metadata": {},
   "outputs": [
    {
     "data": {
      "text/html": [
       "<div>\n",
       "<style scoped>\n",
       "    .dataframe tbody tr th:only-of-type {\n",
       "        vertical-align: middle;\n",
       "    }\n",
       "\n",
       "    .dataframe tbody tr th {\n",
       "        vertical-align: top;\n",
       "    }\n",
       "\n",
       "    .dataframe thead th {\n",
       "        text-align: right;\n",
       "    }\n",
       "</style>\n",
       "<table border=\"1\" class=\"dataframe\">\n",
       "  <thead>\n",
       "    <tr style=\"text-align: right;\">\n",
       "      <th></th>\n",
       "      <th>0</th>\n",
       "    </tr>\n",
       "  </thead>\n",
       "  <tbody>\n",
       "    <tr>\n",
       "      <th>0</th>\n",
       "      <td>189.05</td>\n",
       "    </tr>\n",
       "    <tr>\n",
       "      <th>1</th>\n",
       "      <td>999.50</td>\n",
       "    </tr>\n",
       "    <tr>\n",
       "      <th>2</th>\n",
       "      <td>179.64</td>\n",
       "    </tr>\n",
       "    <tr>\n",
       "      <th>3</th>\n",
       "      <td>539.73</td>\n",
       "    </tr>\n",
       "    <tr>\n",
       "      <th>4</th>\n",
       "      <td>167.44</td>\n",
       "    </tr>\n",
       "  </tbody>\n",
       "</table>\n",
       "</div>"
      ],
      "text/plain": [
       "        0\n",
       "0  189.05\n",
       "1  999.50\n",
       "2  179.64\n",
       "3  539.73\n",
       "4  167.44"
      ]
     },
     "execution_count": 18,
     "metadata": {},
     "output_type": "execute_result"
    }
   ],
   "source": [
    "srs1 = pd.read_csv('ProductTotalPrice.csv', header=None)\n",
    "srs1.head()"
   ]
  },
  {
   "cell_type": "code",
   "execution_count": 19,
   "metadata": {},
   "outputs": [
    {
     "data": {
      "text/plain": [
       "pandas.core.frame.DataFrame"
      ]
     },
     "execution_count": 19,
     "metadata": {},
     "output_type": "execute_result"
    }
   ],
   "source": [
    "type(srs1)"
   ]
  },
  {
   "cell_type": "code",
   "execution_count": 20,
   "metadata": {},
   "outputs": [
    {
     "data": {
      "text/plain": [
       "0    189.05\n",
       "1    999.50\n",
       "2    179.64\n",
       "3    539.73\n",
       "4    167.44\n",
       "Name: 0, dtype: float64"
      ]
     },
     "execution_count": 20,
     "metadata": {},
     "output_type": "execute_result"
    }
   ],
   "source": [
    "# Let's squeeze one column data as Series\n",
    "srs1 = pd.read_csv('ProductTotalPrice.csv', header=None, squeeze=True )\n",
    "srs1.head()"
   ]
  },
  {
   "cell_type": "code",
   "execution_count": 21,
   "metadata": {},
   "outputs": [
    {
     "data": {
      "text/plain": [
       "pandas.core.series.Series"
      ]
     },
     "execution_count": 21,
     "metadata": {},
     "output_type": "execute_result"
    }
   ],
   "source": [
    "type(srs1)"
   ]
  },
  {
   "cell_type": "markdown",
   "metadata": {},
   "source": [
    "#### Extracting One Column from a DataSet as a Series"
   ]
  },
  {
   "cell_type": "code",
   "execution_count": 25,
   "metadata": {},
   "outputs": [],
   "source": [
    "srs1 = pd.read_csv('sales.csv', squeeze=True, usecols=['Total'])"
   ]
  },
  {
   "cell_type": "code",
   "execution_count": 27,
   "metadata": {},
   "outputs": [
    {
     "data": {
      "text/plain": [
       "0    189.05\n",
       "1    999.50\n",
       "2    179.64\n",
       "3    539.73\n",
       "4    167.44\n",
       "Name: Total, dtype: float64"
      ]
     },
     "execution_count": 27,
     "metadata": {},
     "output_type": "execute_result"
    }
   ],
   "source": [
    "srs1.head()"
   ]
  },
  {
   "cell_type": "code",
   "execution_count": 28,
   "metadata": {},
   "outputs": [
    {
     "data": {
      "text/plain": [
       "RangeIndex(start=0, stop=44, step=1)"
      ]
     },
     "execution_count": 28,
     "metadata": {},
     "output_type": "execute_result"
    }
   ],
   "source": [
    "srs1.index"
   ]
  },
  {
   "cell_type": "code",
   "execution_count": 29,
   "metadata": {},
   "outputs": [
    {
     "data": {
      "text/plain": [
       "1"
      ]
     },
     "execution_count": 29,
     "metadata": {},
     "output_type": "execute_result"
    }
   ],
   "source": [
    "srs1.ndim"
   ]
  },
  {
   "cell_type": "code",
   "execution_count": 30,
   "metadata": {},
   "outputs": [
    {
     "data": {
      "text/plain": [
       "44"
      ]
     },
     "execution_count": 30,
     "metadata": {},
     "output_type": "execute_result"
    }
   ],
   "source": [
    "srs1.size"
   ]
  },
  {
   "cell_type": "code",
   "execution_count": 31,
   "metadata": {},
   "outputs": [
    {
     "data": {
      "text/plain": [
       "False"
      ]
     },
     "execution_count": 31,
     "metadata": {},
     "output_type": "execute_result"
    }
   ],
   "source": [
    "srs1.is_unique"
   ]
  },
  {
   "cell_type": "code",
   "execution_count": 33,
   "metadata": {},
   "outputs": [
    {
     "data": {
      "text/plain": [
       "0       189.05\n",
       "1       999.50\n",
       "2       179.64\n",
       "3       539.73\n",
       "4       167.44\n",
       "5       299.40\n",
       "6       149.25\n",
       "7       449.10\n",
       "8        63.68\n",
       "9       539.40\n",
       "10      449.10\n",
       "11       57.71\n",
       "12     1619.19\n",
       "13      174.65\n",
       "14      250.00\n",
       "15      255.84\n",
       "16      251.72\n",
       "17      575.36\n",
       "18      299.85\n",
       "19      479.04\n",
       "20       86.43\n",
       "21     1183.26\n",
       "22      413.54\n",
       "23     1305.00\n",
       "24       19.96\n",
       "25      139.93\n",
       "26      249.50\n",
       "27      131.34\n",
       "28      479.04\n",
       "29       68.37\n",
       "30      719.20\n",
       "31      625.00\n",
       "32      309.38\n",
       "33      686.95\n",
       "34     1005.90\n",
       "35      825.00\n",
       "36        9.03\n",
       "37      151.24\n",
       "38     1139.43\n",
       "39       18.06\n",
       "40       54.89\n",
       "41     1879.06\n",
       "42      139.72\n",
       "43    19627.88\n",
       "Name: Total, dtype: float64"
      ]
     },
     "execution_count": 33,
     "metadata": {},
     "output_type": "execute_result"
    }
   ],
   "source": [
    "srs1"
   ]
  },
  {
   "cell_type": "code",
   "execution_count": 34,
   "metadata": {},
   "outputs": [
    {
     "data": {
      "text/plain": [
       "False"
      ]
     },
     "execution_count": 34,
     "metadata": {},
     "output_type": "execute_result"
    }
   ],
   "source": [
    "srs1.is_monotonic_increasing"
   ]
  },
  {
   "cell_type": "code",
   "execution_count": 35,
   "metadata": {},
   "outputs": [
    {
     "data": {
      "text/plain": [
       "False"
      ]
     },
     "execution_count": 35,
     "metadata": {},
     "output_type": "execute_result"
    }
   ],
   "source": [
    "srs1.is_monotonic_decreasing"
   ]
  },
  {
   "cell_type": "code",
   "execution_count": 36,
   "metadata": {},
   "outputs": [
    {
     "data": {
      "text/plain": [
       "0       189.05\n",
       "1       999.50\n",
       "2       179.64\n",
       "3       539.73\n",
       "4       167.44\n",
       "5       299.40\n",
       "6       149.25\n",
       "7       449.10\n",
       "8        63.68\n",
       "9       539.40\n",
       "10      449.10\n",
       "11       57.71\n",
       "12     1619.19\n",
       "13      174.65\n",
       "14      250.00\n",
       "15      255.84\n",
       "16      251.72\n",
       "17      575.36\n",
       "18      299.85\n",
       "19      479.04\n",
       "20       86.43\n",
       "21     1183.26\n",
       "22      413.54\n",
       "23     1305.00\n",
       "24       19.96\n",
       "25      139.93\n",
       "26      249.50\n",
       "27      131.34\n",
       "28      479.04\n",
       "29       68.37\n",
       "30      719.20\n",
       "31      625.00\n",
       "32      309.38\n",
       "33      686.95\n",
       "34     1005.90\n",
       "35      825.00\n",
       "36        9.03\n",
       "37      151.24\n",
       "38     1139.43\n",
       "39       18.06\n",
       "40       54.89\n",
       "41     1879.06\n",
       "42      139.72\n",
       "43    19627.88\n",
       "Name: Total, dtype: float64"
      ]
     },
     "execution_count": 36,
     "metadata": {},
     "output_type": "execute_result"
    }
   ],
   "source": [
    "srs1"
   ]
  },
  {
   "cell_type": "code",
   "execution_count": 37,
   "metadata": {},
   "outputs": [
    {
     "data": {
      "text/plain": [
       "Py0       189.05\n",
       "Py1       999.50\n",
       "Py2       179.64\n",
       "Py3       539.73\n",
       "Py4       167.44\n",
       "Py5       299.40\n",
       "Py6       149.25\n",
       "Py7       449.10\n",
       "Py8        63.68\n",
       "Py9       539.40\n",
       "Py10      449.10\n",
       "Py11       57.71\n",
       "Py12     1619.19\n",
       "Py13      174.65\n",
       "Py14      250.00\n",
       "Py15      255.84\n",
       "Py16      251.72\n",
       "Py17      575.36\n",
       "Py18      299.85\n",
       "Py19      479.04\n",
       "Py20       86.43\n",
       "Py21     1183.26\n",
       "Py22      413.54\n",
       "Py23     1305.00\n",
       "Py24       19.96\n",
       "Py25      139.93\n",
       "Py26      249.50\n",
       "Py27      131.34\n",
       "Py28      479.04\n",
       "Py29       68.37\n",
       "Py30      719.20\n",
       "Py31      625.00\n",
       "Py32      309.38\n",
       "Py33      686.95\n",
       "Py34     1005.90\n",
       "Py35      825.00\n",
       "Py36        9.03\n",
       "Py37      151.24\n",
       "Py38     1139.43\n",
       "Py39       18.06\n",
       "Py40       54.89\n",
       "Py41     1879.06\n",
       "Py42      139.72\n",
       "Py43    19627.88\n",
       "Name: Total, dtype: float64"
      ]
     },
     "execution_count": 37,
     "metadata": {},
     "output_type": "execute_result"
    }
   ],
   "source": [
    "srs1.add_prefix('Py')"
   ]
  },
  {
   "cell_type": "code",
   "execution_count": 38,
   "metadata": {},
   "outputs": [
    {
     "data": {
      "text/plain": [
       "0Py    189.05\n",
       "1Py    999.50\n",
       "2Py    179.64\n",
       "3Py    539.73\n",
       "4Py    167.44\n",
       "Name: Total, dtype: float64"
      ]
     },
     "execution_count": 38,
     "metadata": {},
     "output_type": "execute_result"
    }
   ],
   "source": [
    "srs1.add_suffix('Py').head()"
   ]
  },
  {
   "cell_type": "code",
   "execution_count": 39,
   "metadata": {},
   "outputs": [
    {
     "data": {
      "text/plain": [
       "39255.76000000001"
      ]
     },
     "execution_count": 39,
     "metadata": {},
     "output_type": "execute_result"
    }
   ],
   "source": [
    "srs1.sum()"
   ]
  },
  {
   "cell_type": "code",
   "execution_count": 40,
   "metadata": {},
   "outputs": [
    {
     "data": {
      "text/plain": [
       "892.1763636363638"
      ]
     },
     "execution_count": 40,
     "metadata": {},
     "output_type": "execute_result"
    }
   ],
   "source": [
    "srs1.mean()"
   ]
  },
  {
   "cell_type": "code",
   "execution_count": 41,
   "metadata": {},
   "outputs": [
    {
     "data": {
      "text/plain": [
       "299.625"
      ]
     },
     "execution_count": 41,
     "metadata": {},
     "output_type": "execute_result"
    }
   ],
   "source": [
    "srs1.median()"
   ]
  },
  {
   "cell_type": "code",
   "execution_count": 42,
   "metadata": {},
   "outputs": [
    {
     "data": {
      "text/plain": [
       "0    449.10\n",
       "1    479.04\n",
       "dtype: float64"
      ]
     },
     "execution_count": 42,
     "metadata": {},
     "output_type": "execute_result"
    }
   ],
   "source": [
    "srs1.mode()"
   ]
  },
  {
   "cell_type": "code",
   "execution_count": 43,
   "metadata": {},
   "outputs": [
    {
     "data": {
      "text/plain": [
       "19627.88"
      ]
     },
     "execution_count": 43,
     "metadata": {},
     "output_type": "execute_result"
    }
   ],
   "source": [
    "srs1.max()"
   ]
  },
  {
   "cell_type": "code",
   "execution_count": 44,
   "metadata": {},
   "outputs": [
    {
     "data": {
      "text/plain": [
       "9.03"
      ]
     },
     "execution_count": 44,
     "metadata": {},
     "output_type": "execute_result"
    }
   ],
   "source": [
    "srs1.min()"
   ]
  },
  {
   "cell_type": "code",
   "execution_count": 45,
   "metadata": {},
   "outputs": [
    {
     "data": {
      "text/plain": [
       "2923.7710907296537"
      ]
     },
     "execution_count": 45,
     "metadata": {},
     "output_type": "execute_result"
    }
   ],
   "source": [
    "srs1.std()"
   ]
  },
  {
   "cell_type": "code",
   "execution_count": 46,
   "metadata": {},
   "outputs": [
    {
     "data": {
      "text/plain": [
       "2.150077919557411e+108"
      ]
     },
     "execution_count": 46,
     "metadata": {},
     "output_type": "execute_result"
    }
   ],
   "source": [
    "srs1.product()"
   ]
  },
  {
   "cell_type": "code",
   "execution_count": 47,
   "metadata": {},
   "outputs": [
    {
     "data": {
      "text/plain": [
       "43"
      ]
     },
     "execution_count": 47,
     "metadata": {},
     "output_type": "execute_result"
    }
   ],
   "source": [
    "srs1.idxmax()"
   ]
  },
  {
   "cell_type": "code",
   "execution_count": 49,
   "metadata": {},
   "outputs": [
    {
     "data": {
      "text/plain": [
       "36"
      ]
     },
     "execution_count": 49,
     "metadata": {},
     "output_type": "execute_result"
    }
   ],
   "source": [
    "srs1.idxmin()"
   ]
  },
  {
   "cell_type": "code",
   "execution_count": 51,
   "metadata": {},
   "outputs": [
    {
     "data": {
      "text/plain": [
       "(44,)"
      ]
     },
     "execution_count": 51,
     "metadata": {},
     "output_type": "execute_result"
    }
   ],
   "source": [
    "srs1.shape"
   ]
  },
  {
   "cell_type": "code",
   "execution_count": 52,
   "metadata": {},
   "outputs": [
    {
     "data": {
      "text/plain": [
       "count       44.000000\n",
       "mean       892.176364\n",
       "std       2923.771091\n",
       "min          9.030000\n",
       "25%        146.920000\n",
       "50%        299.625000\n",
       "75%        640.487500\n",
       "max      19627.880000\n",
       "Name: Total, dtype: float64"
      ]
     },
     "execution_count": 52,
     "metadata": {},
     "output_type": "execute_result"
    }
   ],
   "source": [
    "srs1.describe()"
   ]
  },
  {
   "cell_type": "markdown",
   "metadata": {},
   "source": [
    "# Custom Label Index"
   ]
  },
  {
   "cell_type": "code",
   "execution_count": 64,
   "metadata": {},
   "outputs": [],
   "source": [
    "temp   = [19, 20, 26, 32, 35, 39, 36, 38, 37, 33, 28, 21]\n",
    "months = [\"Jan\", \"Feb\", \"Mar\", \"Apr\", \"May\", \"Jun\", \"Jul\", \"Aug\", \"Sep\", \"Oct\", \"Nov\", \"Dec\"]"
   ]
  },
  {
   "cell_type": "code",
   "execution_count": 65,
   "metadata": {},
   "outputs": [
    {
     "data": {
      "text/plain": [
       "Jan    19\n",
       "Feb    20\n",
       "Mar    26\n",
       "Apr    32\n",
       "May    35\n",
       "Jun    39\n",
       "Jul    36\n",
       "Aug    38\n",
       "Sep    37\n",
       "Oct    33\n",
       "Nov    28\n",
       "Dec    21\n",
       "dtype: int64"
      ]
     },
     "execution_count": 65,
     "metadata": {},
     "output_type": "execute_result"
    }
   ],
   "source": [
    "tempsrs = pd.Series(data=temp, index=months)\n",
    "tempsrs"
   ]
  },
  {
   "cell_type": "code",
   "execution_count": 66,
   "metadata": {},
   "outputs": [
    {
     "data": {
      "text/plain": [
       "Index(['Jan', 'Feb', 'Mar', 'Apr', 'May', 'Jun', 'Jul', 'Aug', 'Sep', 'Oct',\n",
       "       'Nov', 'Dec'],\n",
       "      dtype='object')"
      ]
     },
     "execution_count": 66,
     "metadata": {},
     "output_type": "execute_result"
    }
   ],
   "source": [
    "tempsrs.index"
   ]
  },
  {
   "cell_type": "code",
   "execution_count": 67,
   "metadata": {},
   "outputs": [
    {
     "data": {
      "text/plain": [
       "array([19, 20, 26, 32, 35, 39, 36, 38, 37, 33, 28, 21], dtype=int64)"
      ]
     },
     "execution_count": 67,
     "metadata": {},
     "output_type": "execute_result"
    }
   ],
   "source": [
    "tempsrs.values"
   ]
  },
  {
   "cell_type": "code",
   "execution_count": 68,
   "metadata": {},
   "outputs": [
    {
     "data": {
      "text/plain": [
       "True"
      ]
     },
     "execution_count": 68,
     "metadata": {},
     "output_type": "execute_result"
    }
   ],
   "source": [
    "tempsrs.is_unique"
   ]
  },
  {
   "cell_type": "code",
   "execution_count": 69,
   "metadata": {},
   "outputs": [
    {
     "data": {
      "text/plain": [
       "Jan    19\n",
       "Feb    20\n",
       "Mar    26\n",
       "Apr    32\n",
       "May    35\n",
       "Jun    39\n",
       "Jul    36\n",
       "Aug    38\n",
       "Sep    37\n",
       "Oct    33\n",
       "Nov    28\n",
       "Dec    21\n",
       "dtype: int64"
      ]
     },
     "execution_count": 69,
     "metadata": {},
     "output_type": "execute_result"
    }
   ],
   "source": [
    "tempsrs"
   ]
  },
  {
   "cell_type": "code",
   "execution_count": 70,
   "metadata": {},
   "outputs": [
    {
     "data": {
      "text/plain": [
       "Jan    19\n",
       "Feb    20\n",
       "Dec    21\n",
       "Mar    26\n",
       "Nov    28\n",
       "Apr    32\n",
       "Oct    33\n",
       "May    35\n",
       "Jul    36\n",
       "Sep    37\n",
       "Aug    38\n",
       "Jun    39\n",
       "dtype: int64"
      ]
     },
     "execution_count": 70,
     "metadata": {},
     "output_type": "execute_result"
    }
   ],
   "source": [
    "tempsrs.sort_values()"
   ]
  },
  {
   "cell_type": "code",
   "execution_count": 71,
   "metadata": {},
   "outputs": [
    {
     "data": {
      "text/plain": [
       "Apr    32\n",
       "Aug    38\n",
       "Dec    21\n",
       "Feb    20\n",
       "Jan    19\n",
       "Jul    36\n",
       "Jun    39\n",
       "Mar    26\n",
       "May    35\n",
       "Nov    28\n",
       "Oct    33\n",
       "Sep    37\n",
       "dtype: int64"
      ]
     },
     "execution_count": 71,
     "metadata": {},
     "output_type": "execute_result"
    }
   ],
   "source": [
    "tempsrs.sort_index()"
   ]
  },
  {
   "cell_type": "code",
   "execution_count": 72,
   "metadata": {},
   "outputs": [
    {
     "data": {
      "text/plain": [
       "Jun    39\n",
       "Aug    38\n",
       "Sep    37\n",
       "Jul    36\n",
       "May    35\n",
       "Oct    33\n",
       "Apr    32\n",
       "Nov    28\n",
       "Mar    26\n",
       "Dec    21\n",
       "Feb    20\n",
       "Jan    19\n",
       "dtype: int64"
      ]
     },
     "execution_count": 72,
     "metadata": {},
     "output_type": "execute_result"
    }
   ],
   "source": [
    "tempsrs.sort_values(ascending=False)"
   ]
  },
  {
   "cell_type": "code",
   "execution_count": 73,
   "metadata": {},
   "outputs": [
    {
     "data": {
      "text/plain": [
       "Jan    19\n",
       "Feb    20\n",
       "Mar    26\n",
       "Apr    32\n",
       "May    35\n",
       "Jun    39\n",
       "Jul    36\n",
       "Aug    38\n",
       "Sep    37\n",
       "Oct    33\n",
       "Nov    28\n",
       "Dec    21\n",
       "dtype: int64"
      ]
     },
     "execution_count": 73,
     "metadata": {},
     "output_type": "execute_result"
    }
   ],
   "source": [
    "tempsrs"
   ]
  },
  {
   "cell_type": "code",
   "execution_count": 74,
   "metadata": {},
   "outputs": [],
   "source": [
    "tempsrs.sort_values(inplace=True)"
   ]
  },
  {
   "cell_type": "code",
   "execution_count": 75,
   "metadata": {},
   "outputs": [
    {
     "data": {
      "text/plain": [
       "Jan    19\n",
       "Feb    20\n",
       "Dec    21\n",
       "Mar    26\n",
       "Nov    28\n",
       "Apr    32\n",
       "Oct    33\n",
       "May    35\n",
       "Jul    36\n",
       "Sep    37\n",
       "Aug    38\n",
       "Jun    39\n",
       "dtype: int64"
      ]
     },
     "execution_count": 75,
     "metadata": {},
     "output_type": "execute_result"
    }
   ],
   "source": [
    "tempsrs"
   ]
  },
  {
   "cell_type": "code",
   "execution_count": 76,
   "metadata": {},
   "outputs": [
    {
     "data": {
      "text/plain": [
       "12"
      ]
     },
     "execution_count": 76,
     "metadata": {},
     "output_type": "execute_result"
    }
   ],
   "source": [
    "len(tempsrs)"
   ]
  },
  {
   "cell_type": "code",
   "execution_count": 77,
   "metadata": {},
   "outputs": [
    {
     "data": {
      "text/plain": [
       "12"
      ]
     },
     "execution_count": 77,
     "metadata": {},
     "output_type": "execute_result"
    }
   ],
   "source": [
    "tempsrs.size"
   ]
  },
  {
   "cell_type": "code",
   "execution_count": 78,
   "metadata": {},
   "outputs": [
    {
     "data": {
      "text/plain": [
       "[19, 20, 21, 26, 28, 32, 33, 35, 36, 37, 38, 39]"
      ]
     },
     "execution_count": 78,
     "metadata": {},
     "output_type": "execute_result"
    }
   ],
   "source": [
    "list(tempsrs)"
   ]
  },
  {
   "cell_type": "code",
   "execution_count": 79,
   "metadata": {},
   "outputs": [
    {
     "data": {
      "text/plain": [
       "{'Jan': 19,\n",
       " 'Feb': 20,\n",
       " 'Dec': 21,\n",
       " 'Mar': 26,\n",
       " 'Nov': 28,\n",
       " 'Apr': 32,\n",
       " 'Oct': 33,\n",
       " 'May': 35,\n",
       " 'Jul': 36,\n",
       " 'Sep': 37,\n",
       " 'Aug': 38,\n",
       " 'Jun': 39}"
      ]
     },
     "execution_count": 79,
     "metadata": {},
     "output_type": "execute_result"
    }
   ],
   "source": [
    "dict(tempsrs)"
   ]
  },
  {
   "cell_type": "code",
   "execution_count": 80,
   "metadata": {},
   "outputs": [
    {
     "data": {
      "text/plain": [
       "[19, 20, 21, 26, 28, 32, 33, 35, 36, 37, 38, 39]"
      ]
     },
     "execution_count": 80,
     "metadata": {},
     "output_type": "execute_result"
    }
   ],
   "source": [
    "sorted(tempsrs)"
   ]
  },
  {
   "cell_type": "code",
   "execution_count": 81,
   "metadata": {},
   "outputs": [
    {
     "data": {
      "text/plain": [
       "39"
      ]
     },
     "execution_count": 81,
     "metadata": {},
     "output_type": "execute_result"
    }
   ],
   "source": [
    "max(tempsrs)"
   ]
  },
  {
   "cell_type": "code",
   "execution_count": 82,
   "metadata": {},
   "outputs": [
    {
     "data": {
      "text/plain": [
       "19"
      ]
     },
     "execution_count": 82,
     "metadata": {},
     "output_type": "execute_result"
    }
   ],
   "source": [
    "min(tempsrs)"
   ]
  },
  {
   "cell_type": "code",
   "execution_count": 83,
   "metadata": {},
   "outputs": [
    {
     "data": {
      "text/plain": [
       "Jan    19\n",
       "Feb    20\n",
       "Dec    21\n",
       "Mar    26\n",
       "Nov    28\n",
       "Apr    32\n",
       "Oct    33\n",
       "May    35\n",
       "Jul    36\n",
       "Sep    37\n",
       "Aug    38\n",
       "Jun    39\n",
       "dtype: int64"
      ]
     },
     "execution_count": 83,
     "metadata": {},
     "output_type": "execute_result"
    }
   ],
   "source": [
    "tempsrs"
   ]
  },
  {
   "cell_type": "code",
   "execution_count": 84,
   "metadata": {},
   "outputs": [
    {
     "data": {
      "text/plain": [
       "21"
      ]
     },
     "execution_count": 84,
     "metadata": {},
     "output_type": "execute_result"
    }
   ],
   "source": [
    "tempsrs[2]"
   ]
  },
  {
   "cell_type": "code",
   "execution_count": 87,
   "metadata": {},
   "outputs": [
    {
     "data": {
      "text/plain": [
       "Jan    19\n",
       "Feb    20\n",
       "Mar    26\n",
       "Apr    32\n",
       "May    35\n",
       "Jun    39\n",
       "Jul    36\n",
       "Aug    38\n",
       "Sep    37\n",
       "Oct    33\n",
       "Nov    28\n",
       "Dec    21\n",
       "dtype: int64"
      ]
     },
     "execution_count": 87,
     "metadata": {},
     "output_type": "execute_result"
    }
   ],
   "source": [
    "temp   = [19, 20, 26, 32, 35, 39, 36, 38, 37, 33, 28, 21]\n",
    "months = [\"Jan\", \"Feb\", \"Mar\", \"Apr\", \"May\", \"Jun\", \"Jul\", \"Aug\", \"Sep\", \"Oct\", \"Nov\", \"Dec\"]\n",
    "srs = pd.Series(temp, months)\n",
    "srs"
   ]
  },
  {
   "cell_type": "code",
   "execution_count": 88,
   "metadata": {},
   "outputs": [
    {
     "data": {
      "text/plain": [
       "26"
      ]
     },
     "execution_count": 88,
     "metadata": {},
     "output_type": "execute_result"
    }
   ],
   "source": [
    "srs[2]"
   ]
  },
  {
   "cell_type": "code",
   "execution_count": 89,
   "metadata": {},
   "outputs": [
    {
     "data": {
      "text/plain": [
       "Feb    20\n",
       "Mar    26\n",
       "Apr    32\n",
       "dtype: int64"
      ]
     },
     "execution_count": 89,
     "metadata": {},
     "output_type": "execute_result"
    }
   ],
   "source": [
    "srs[1:4]"
   ]
  },
  {
   "cell_type": "code",
   "execution_count": 90,
   "metadata": {},
   "outputs": [
    {
     "data": {
      "text/plain": [
       "Jan    19\n",
       "Jun    39\n",
       "Dec    21\n",
       "dtype: int64"
      ]
     },
     "execution_count": 90,
     "metadata": {},
     "output_type": "execute_result"
    }
   ],
   "source": [
    "srs[[0, 5, 11]]"
   ]
  },
  {
   "cell_type": "code",
   "execution_count": 91,
   "metadata": {},
   "outputs": [
    {
     "data": {
      "text/plain": [
       "28"
      ]
     },
     "execution_count": 91,
     "metadata": {},
     "output_type": "execute_result"
    }
   ],
   "source": [
    "srs[-2]"
   ]
  },
  {
   "cell_type": "code",
   "execution_count": 92,
   "metadata": {},
   "outputs": [
    {
     "data": {
      "text/plain": [
       "Jan    19\n",
       "Feb    20\n",
       "Mar    26\n",
       "Apr    32\n",
       "May    35\n",
       "Jun    39\n",
       "Jul    36\n",
       "Aug    38\n",
       "Sep    37\n",
       "Oct    33\n",
       "Nov    28\n",
       "Dec    21\n",
       "dtype: int64"
      ]
     },
     "execution_count": 92,
     "metadata": {},
     "output_type": "execute_result"
    }
   ],
   "source": [
    "srs"
   ]
  },
  {
   "cell_type": "code",
   "execution_count": 93,
   "metadata": {},
   "outputs": [
    {
     "data": {
      "text/plain": [
       "Aug    38\n",
       "Sep    37\n",
       "Oct    33\n",
       "dtype: int64"
      ]
     },
     "execution_count": 93,
     "metadata": {},
     "output_type": "execute_result"
    }
   ],
   "source": [
    "srs[-5:-2]"
   ]
  },
  {
   "cell_type": "code",
   "execution_count": 94,
   "metadata": {},
   "outputs": [
    {
     "data": {
      "text/plain": [
       "(19, 19)"
      ]
     },
     "execution_count": 94,
     "metadata": {},
     "output_type": "execute_result"
    }
   ],
   "source": [
    "srs[0], srs['Jan']"
   ]
  },
  {
   "cell_type": "code",
   "execution_count": 95,
   "metadata": {},
   "outputs": [
    {
     "data": {
      "text/plain": [
       "Jan    19\n",
       "Jun    39\n",
       "Dec    21\n",
       "dtype: int64"
      ]
     },
     "execution_count": 95,
     "metadata": {},
     "output_type": "execute_result"
    }
   ],
   "source": [
    "srs[['Jan', 'Jun', 'Dec']]"
   ]
  },
  {
   "cell_type": "code",
   "execution_count": 97,
   "metadata": {},
   "outputs": [
    {
     "data": {
      "text/plain": [
       "True"
      ]
     },
     "execution_count": 97,
     "metadata": {},
     "output_type": "execute_result"
    }
   ],
   "source": [
    "srs.is_unique"
   ]
  },
  {
   "cell_type": "code",
   "execution_count": 98,
   "metadata": {},
   "outputs": [
    {
     "data": {
      "text/plain": [
       "0      Apple\n",
       "1      Mango\n",
       "2     Grapes\n",
       "3     Grapes\n",
       "4     Grapes\n",
       "5      Apple\n",
       "6      Apple\n",
       "7      Apple\n",
       "8      Apple\n",
       "9      Apple\n",
       "10     Mango\n",
       "11     Mango\n",
       "dtype: object"
      ]
     },
     "execution_count": 98,
     "metadata": {},
     "output_type": "execute_result"
    }
   ],
   "source": [
    "products = ['Apple', 'Mango', 'Grapes', 'Grapes', 'Grapes', 'Apple', 'Apple', 'Apple', 'Apple', 'Apple', 'Mango', 'Mango']\n",
    "srs1 = pd.Series(products)\n",
    "srs1"
   ]
  },
  {
   "cell_type": "code",
   "execution_count": 99,
   "metadata": {},
   "outputs": [
    {
     "data": {
      "text/plain": [
       "False"
      ]
     },
     "execution_count": 99,
     "metadata": {},
     "output_type": "execute_result"
    }
   ],
   "source": [
    "srs1.is_unique"
   ]
  },
  {
   "cell_type": "code",
   "execution_count": 100,
   "metadata": {},
   "outputs": [
    {
     "data": {
      "text/plain": [
       "3"
      ]
     },
     "execution_count": 100,
     "metadata": {},
     "output_type": "execute_result"
    }
   ],
   "source": [
    "srs1.nunique()"
   ]
  },
  {
   "cell_type": "code",
   "execution_count": 101,
   "metadata": {},
   "outputs": [
    {
     "data": {
      "text/plain": [
       "0      Apple\n",
       "1      Mango\n",
       "2     Grapes\n",
       "3     Grapes\n",
       "4     Grapes\n",
       "5      Apple\n",
       "6      Apple\n",
       "7      Apple\n",
       "8      Apple\n",
       "9      Apple\n",
       "10     Mango\n",
       "11     Mango\n",
       "dtype: object"
      ]
     },
     "execution_count": 101,
     "metadata": {},
     "output_type": "execute_result"
    }
   ],
   "source": [
    "srs1"
   ]
  },
  {
   "cell_type": "code",
   "execution_count": 102,
   "metadata": {},
   "outputs": [
    {
     "data": {
      "text/plain": [
       "Apple     6\n",
       "Mango     3\n",
       "Grapes    3\n",
       "dtype: int64"
      ]
     },
     "execution_count": 102,
     "metadata": {},
     "output_type": "execute_result"
    }
   ],
   "source": [
    "srs1.value_counts()"
   ]
  },
  {
   "cell_type": "markdown",
   "metadata": {},
   "source": [
    "# Apply and Map Functions"
   ]
  },
  {
   "cell_type": "code",
   "execution_count": 103,
   "metadata": {},
   "outputs": [
    {
     "data": {
      "text/plain": [
       "Jan    19\n",
       "Feb    20\n",
       "Mar    26\n",
       "Apr    32\n",
       "May    35\n",
       "dtype: int64"
      ]
     },
     "execution_count": 103,
     "metadata": {},
     "output_type": "execute_result"
    }
   ],
   "source": [
    "temp   = [19, 20, 26, 32, 35, 39, 36, 35, 32, 33, 28, 20]    #In Degree Celcius\n",
    "months = [\"Jan\", \"Feb\", \"Mar\", \"Apr\", \"May\", \"Jun\", \"Jul\", \"Aug\", \"Sep\", \"Oct\", \"Nov\", \"Dec\"]\n",
    "srs1 = pd.Series(temp, months)\n",
    "srs1.head()"
   ]
  },
  {
   "cell_type": "code",
   "execution_count": 104,
   "metadata": {},
   "outputs": [],
   "source": [
    "# F = C * 1.8 + 32"
   ]
  },
  {
   "cell_type": "code",
   "execution_count": 105,
   "metadata": {},
   "outputs": [],
   "source": [
    "def tempctof(tempc):\n",
    "    return((tempc*1.8)+32)"
   ]
  },
  {
   "cell_type": "code",
   "execution_count": 106,
   "metadata": {},
   "outputs": [
    {
     "data": {
      "text/plain": [
       "86.0"
      ]
     },
     "execution_count": 106,
     "metadata": {},
     "output_type": "execute_result"
    }
   ],
   "source": [
    "tempctof(30)"
   ]
  },
  {
   "cell_type": "code",
   "execution_count": 108,
   "metadata": {},
   "outputs": [],
   "source": [
    "# Using Apply Function"
   ]
  },
  {
   "cell_type": "code",
   "execution_count": 109,
   "metadata": {},
   "outputs": [
    {
     "data": {
      "text/plain": [
       "Jan     66.2\n",
       "Feb     68.0\n",
       "Mar     78.8\n",
       "Apr     89.6\n",
       "May     95.0\n",
       "Jun    102.2\n",
       "Jul     96.8\n",
       "Aug     95.0\n",
       "Sep     89.6\n",
       "Oct     91.4\n",
       "Nov     82.4\n",
       "Dec     68.0\n",
       "dtype: float64"
      ]
     },
     "execution_count": 109,
     "metadata": {},
     "output_type": "execute_result"
    }
   ],
   "source": [
    "srs1.apply(tempctof)"
   ]
  },
  {
   "cell_type": "code",
   "execution_count": 110,
   "metadata": {},
   "outputs": [
    {
     "data": {
      "text/plain": [
       "Jan    19\n",
       "Feb    20\n",
       "Mar    26\n",
       "Apr    32\n",
       "May    35\n",
       "Jun    39\n",
       "Jul    36\n",
       "Aug    35\n",
       "Sep    32\n",
       "Oct    33\n",
       "Nov    28\n",
       "Dec    20\n",
       "dtype: int64"
      ]
     },
     "execution_count": 110,
     "metadata": {},
     "output_type": "execute_result"
    }
   ],
   "source": [
    "srs1"
   ]
  },
  {
   "cell_type": "code",
   "execution_count": 112,
   "metadata": {},
   "outputs": [
    {
     "data": {
      "text/plain": [
       "Jan     66.2\n",
       "Feb     68.0\n",
       "Mar     78.8\n",
       "Apr     89.6\n",
       "May     95.0\n",
       "Jun    102.2\n",
       "Jul     96.8\n",
       "Aug     95.0\n",
       "Sep     89.6\n",
       "Oct     91.4\n",
       "Nov     82.4\n",
       "Dec     68.0\n",
       "dtype: float64"
      ]
     },
     "execution_count": 112,
     "metadata": {},
     "output_type": "execute_result"
    }
   ],
   "source": [
    "srs1.apply(lambda x : (x*1.8)+32)"
   ]
  },
  {
   "cell_type": "markdown",
   "metadata": {},
   "source": [
    "# Map Function"
   ]
  },
  {
   "cell_type": "code",
   "execution_count": 113,
   "metadata": {},
   "outputs": [
    {
     "data": {
      "text/plain": [
       "0      Apple\n",
       "1      Mango\n",
       "2     Grapes\n",
       "3     Grapes\n",
       "4     Grapes\n",
       "5      Apple\n",
       "6      Apple\n",
       "7      Apple\n",
       "8      Apple\n",
       "9      Apple\n",
       "10     Mango\n",
       "11     Mango\n",
       "dtype: object"
      ]
     },
     "execution_count": 113,
     "metadata": {},
     "output_type": "execute_result"
    }
   ],
   "source": [
    "products = ['Apple', 'Mango', 'Grapes', 'Grapes', 'Grapes', 'Apple', 'Apple', 'Apple', 'Apple', 'Apple', 'Mango', 'Mango']\n",
    "srs2 = pd.Series(products)\n",
    "srs2"
   ]
  },
  {
   "cell_type": "markdown",
   "metadata": {},
   "source": [
    "- Apple => 30\n",
    "- Mango = 50\n",
    "- Grapes = 60"
   ]
  },
  {
   "cell_type": "code",
   "execution_count": 114,
   "metadata": {},
   "outputs": [],
   "source": [
    "priced = {'Apple':30, 'Mango':50, 'Grapes':60}"
   ]
  },
  {
   "cell_type": "code",
   "execution_count": 116,
   "metadata": {},
   "outputs": [],
   "source": [
    "updatedsrs = srs2.map(priced)"
   ]
  },
  {
   "cell_type": "code",
   "execution_count": 117,
   "metadata": {},
   "outputs": [
    {
     "data": {
      "text/plain": [
       "0     30\n",
       "1     50\n",
       "2     60\n",
       "3     60\n",
       "4     60\n",
       "5     30\n",
       "6     30\n",
       "7     30\n",
       "8     30\n",
       "9     30\n",
       "10    50\n",
       "11    50\n",
       "dtype: int64"
      ]
     },
     "execution_count": 117,
     "metadata": {},
     "output_type": "execute_result"
    }
   ],
   "source": [
    "updatedsrs"
   ]
  },
  {
   "cell_type": "code",
   "execution_count": null,
   "metadata": {},
   "outputs": [],
   "source": []
  }
 ],
 "metadata": {
  "kernelspec": {
   "display_name": "Python 3",
   "language": "python",
   "name": "python3"
  },
  "language_info": {
   "codemirror_mode": {
    "name": "ipython",
    "version": 3
   },
   "file_extension": ".py",
   "mimetype": "text/x-python",
   "name": "python",
   "nbconvert_exporter": "python",
   "pygments_lexer": "ipython3",
   "version": "3.7.0"
  }
 },
 "nbformat": 4,
 "nbformat_minor": 2
}
