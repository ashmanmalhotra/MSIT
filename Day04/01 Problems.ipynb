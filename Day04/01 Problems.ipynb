{
 "cells": [
  {
   "cell_type": "markdown",
   "metadata": {},
   "source": [
    "##### Problem: Find the greatest of three numbers."
   ]
  },
  {
   "cell_type": "code",
   "execution_count": 6,
   "metadata": {},
   "outputs": [
    {
     "name": "stdout",
     "output_type": "stream",
     "text": [
      "3 is the greatest number.\n"
     ]
    }
   ],
   "source": [
    "a, b, c = 3,2,1\n",
    "\n",
    "if a>b:\n",
    "    if a>c:\n",
    "        print(a, \"is the greatest number.\")\n",
    "    else:\n",
    "        print(c, \"is the greatest number.\")\n",
    "else:\n",
    "    if b>c:\n",
    "        print(b, \"is the greatest number.\")\n",
    "    else:\n",
    "        print(c, \"is the greatest number.\")"
   ]
  },
  {
   "cell_type": "code",
   "execution_count": 7,
   "metadata": {},
   "outputs": [
    {
     "name": "stdout",
     "output_type": "stream",
     "text": [
      "3 is the greatest number.\n"
     ]
    }
   ],
   "source": [
    "# The other way to write same solution\n",
    "a, b, c = 3,2,1\n",
    "\n",
    "if a>b:\n",
    "    if a>c:\n",
    "        print(a, \"is the greatest number.\")\n",
    "    else:\n",
    "        print(c, \"is the greatest number.\")\n",
    "elif b>c:\n",
    "    print(b, \"is the greatest number.\")\n",
    "else:\n",
    "    print(c, \"is the greatest number.\")"
   ]
  },
  {
   "cell_type": "markdown",
   "metadata": {},
   "source": [
    "###### Problem: Find the greatest of three numbers (Using Logical Operator)"
   ]
  },
  {
   "cell_type": "code",
   "execution_count": 14,
   "metadata": {},
   "outputs": [
    {
     "name": "stdout",
     "output_type": "stream",
     "text": [
      "3 is the greatest number.\n"
     ]
    }
   ],
   "source": [
    "a, b, c = 3,2,1\n",
    "\n",
    "if a>b and a>c:\n",
    "    print(a, \"is the greatest number.\")\n",
    "elif b>c:\n",
    "    print(b, \"is the greatest number.\")\n",
    "else:\n",
    "    print(c, \"is the greatest number.\")"
   ]
  },
  {
   "cell_type": "code",
   "execution_count": 20,
   "metadata": {},
   "outputs": [
    {
     "name": "stdout",
     "output_type": "stream",
     "text": [
      "3 is the greatest number.\n"
     ]
    }
   ],
   "source": [
    "a, b, c = 3,2,1\n",
    "\n",
    "if a>b and a>c:\n",
    "    print(a, \"is the greatest number.\")\n",
    "elif b>a and b>c:\n",
    "    print(b, \"is the greatest number.\")\n",
    "else:\n",
    "    print(c, \"is the greatest number.\")"
   ]
  },
  {
   "cell_type": "markdown",
   "metadata": {},
   "source": [
    "<hr>"
   ]
  },
  {
   "cell_type": "markdown",
   "metadata": {},
   "source": [
    "##### Problem: Request user to input his/her Full name.\n",
    "<b>Conditions:</b>\n",
    "- If name is composed of two words - Print First and Last Name\n",
    "- If name is composed of three words - Print First, Middle and Last Name"
   ]
  },
  {
   "cell_type": "code",
   "execution_count": 27,
   "metadata": {},
   "outputs": [
    {
     "name": "stdout",
     "output_type": "stream",
     "text": [
      "Please input your name : Karan Singh Malhotra\n",
      "First  Name :  Karan\n",
      "Middle Name :  Singh\n",
      "Last   Name :  Malhotra\n"
     ]
    }
   ],
   "source": [
    "name = input(\"Please input your name : \")\n",
    "spltname = name.split(\" \")\n",
    "if len(spltname)==2:\n",
    "    print(\"First Name : \", spltname[0])\n",
    "    print(\"Last  Name : \", spltname[1])\n",
    "elif len(spltname)==3:\n",
    "    print(\"First  Name : \", spltname[0])\n",
    "    print(\"Middle Name : \", spltname[1])\n",
    "    print(\"Last   Name : \", spltname[2])"
   ]
  },
  {
   "cell_type": "markdown",
   "metadata": {},
   "source": [
    "<hr>"
   ]
  },
  {
   "cell_type": "markdown",
   "metadata": {},
   "source": [
    "##### Problem: Allow user to input the number.\n",
    "- Verify whether the number is +ive / zero / -ive?\n",
    "- Print results as per the test."
   ]
  },
  {
   "cell_type": "code",
   "execution_count": 34,
   "metadata": {},
   "outputs": [
    {
     "name": "stdout",
     "output_type": "stream",
     "text": [
      "Enter Number : 10\n",
      "+ive Number.\n"
     ]
    }
   ],
   "source": [
    "num = input(\"Enter Number : \")\n",
    "num = int(num)\n",
    "if num > 0:\n",
    "    print(\"+ive Number.\")\n",
    "elif num < 0:\n",
    "    print(\"-ive Number.\")\n",
    "else:\n",
    "    print(\"Number is Zero\")"
   ]
  },
  {
   "cell_type": "markdown",
   "metadata": {},
   "source": [
    "<hr>"
   ]
  },
  {
   "cell_type": "markdown",
   "metadata": {},
   "source": [
    "##### Problem: Verify whether the input number is Odd or Even?"
   ]
  },
  {
   "cell_type": "code",
   "execution_count": 36,
   "metadata": {},
   "outputs": [
    {
     "name": "stdout",
     "output_type": "stream",
     "text": [
      "Input a number : 11\n",
      "Input number is Odd.\n"
     ]
    }
   ],
   "source": [
    "num = int(input(\"Input a number : \"))\n",
    "if num%2==0:\n",
    "    print(\"Input number is Even.\")\n",
    "else:\n",
    "    print(\"Input number is Odd.\")"
   ]
  },
  {
   "cell_type": "markdown",
   "metadata": {},
   "source": [
    "<hr>"
   ]
  },
  {
   "cell_type": "markdown",
   "metadata": {},
   "source": [
    "##### Problem: Create a Python List containing some numbers.\n",
    "- Ask User to input a number.\n",
    "- Verify whether the input number is greater or smaller than the largest number of the list."
   ]
  },
  {
   "cell_type": "code",
   "execution_count": 39,
   "metadata": {},
   "outputs": [
    {
     "name": "stdout",
     "output_type": "stream",
     "text": [
      "Enter any number : 110\n",
      "Input number is larger than the largest number of the list.\n"
     ]
    }
   ],
   "source": [
    "numlist = [12, 10, 23, 4, 2, 1, 90, 86, 45, 32]\n",
    "num = int(input(\"Enter any number : \"))\n",
    "if num > max(numlist):\n",
    "    print(\"Input number is larger than the largest number of the list.\")\n",
    "else:\n",
    "    print(\"Input number is smaller than the largest number of the list.\")"
   ]
  },
  {
   "cell_type": "markdown",
   "metadata": {},
   "source": [
    "<hr>"
   ]
  },
  {
   "cell_type": "markdown",
   "metadata": {},
   "source": [
    "##### Create a Python List containing some numbers. Find the difference of maximum and minimum number of the list."
   ]
  },
  {
   "cell_type": "code",
   "execution_count": 41,
   "metadata": {},
   "outputs": [
    {
     "name": "stdout",
     "output_type": "stream",
     "text": [
      "The difference of the max and min number of the list is  89\n"
     ]
    }
   ],
   "source": [
    "numlist = [12, 10, 23, 4, 2, 1, 90, 86, 45, 32]\n",
    "maxn = max(numlist)\n",
    "minn = min(numlist)\n",
    "print(\"The difference of the max and min number of the list is \", maxn-minn)"
   ]
  },
  {
   "cell_type": "code",
   "execution_count": 42,
   "metadata": {},
   "outputs": [
    {
     "name": "stdout",
     "output_type": "stream",
     "text": [
      "The difference of the max and min number of the list is  89\n"
     ]
    }
   ],
   "source": [
    "numlist = [12, 10, 23, 4, 2, 1, 90, 86, 45, 32]\n",
    "print(\"The difference of the max and min number of the list is \", max(numlist)-min(numlist))"
   ]
  },
  {
   "cell_type": "code",
   "execution_count": null,
   "metadata": {},
   "outputs": [],
   "source": []
  }
 ],
 "metadata": {
  "kernelspec": {
   "display_name": "Python 3",
   "language": "python",
   "name": "python3"
  },
  "language_info": {
   "codemirror_mode": {
    "name": "ipython",
    "version": 3
   },
   "file_extension": ".py",
   "mimetype": "text/x-python",
   "name": "python",
   "nbconvert_exporter": "python",
   "pygments_lexer": "ipython3",
   "version": "3.7.0"
  }
 },
 "nbformat": 4,
 "nbformat_minor": 2
}
