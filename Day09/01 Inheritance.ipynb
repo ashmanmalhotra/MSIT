{
 "cells": [
  {
   "cell_type": "markdown",
   "metadata": {},
   "source": [
    "# Inheritance"
   ]
  },
  {
   "cell_type": "code",
   "execution_count": 1,
   "metadata": {},
   "outputs": [
    {
     "name": "stdout",
     "output_type": "stream",
     "text": [
      "Child class initialised.\n"
     ]
    }
   ],
   "source": [
    "class Parent:\n",
    "    def __init__(self):\n",
    "        print(\"Parent class initialised.\")\n",
    "    def parentfunc(self):\n",
    "        print(\"Parent Class function executed.\")\n",
    "\n",
    "class Child(Parent):\n",
    "    def __init__(self):\n",
    "        print(\"Child class initialised.\")\n",
    "    def childfunc(self):\n",
    "        print(\"Child Class function executed.\")\n",
    "\n",
    "chldobj = Child()"
   ]
  },
  {
   "cell_type": "code",
   "execution_count": 2,
   "metadata": {},
   "outputs": [
    {
     "name": "stdout",
     "output_type": "stream",
     "text": [
      "Child Class function executed.\n"
     ]
    }
   ],
   "source": [
    "chldobj.childfunc()"
   ]
  },
  {
   "cell_type": "code",
   "execution_count": 3,
   "metadata": {},
   "outputs": [
    {
     "name": "stdout",
     "output_type": "stream",
     "text": [
      "Parent Class function executed.\n"
     ]
    }
   ],
   "source": [
    "chldobj.parentfunc()"
   ]
  },
  {
   "cell_type": "code",
   "execution_count": 4,
   "metadata": {},
   "outputs": [
    {
     "name": "stdout",
     "output_type": "stream",
     "text": [
      "Child class initialised.\n"
     ]
    }
   ],
   "source": [
    "class Parent:\n",
    "    def __init__(self):\n",
    "        print(\"Parent class initialised.\")\n",
    "    def parentfunc(self):\n",
    "        print(\"Parent Class function executed.\")\n",
    "\n",
    "class Child(Parent):\n",
    "    def __init__(self):\n",
    "        print(\"Child class initialised.\")\n",
    "    def childfunc(self):\n",
    "        print(\"Child Class function executed.\")\n",
    "    def parentfunc(self):\n",
    "        print(\"Parent function inside Child Class executed.\")\n",
    "    \n",
    "chldobj = Child()"
   ]
  },
  {
   "cell_type": "code",
   "execution_count": 5,
   "metadata": {},
   "outputs": [
    {
     "name": "stdout",
     "output_type": "stream",
     "text": [
      "Child Class function executed.\n"
     ]
    }
   ],
   "source": [
    "chldobj.childfunc()"
   ]
  },
  {
   "cell_type": "code",
   "execution_count": 7,
   "metadata": {},
   "outputs": [
    {
     "name": "stdout",
     "output_type": "stream",
     "text": [
      "Parent function inside Child Class executed.\n"
     ]
    }
   ],
   "source": [
    "chldobj.parentfunc()   # Overloaded Function"
   ]
  },
  {
   "cell_type": "code",
   "execution_count": 11,
   "metadata": {},
   "outputs": [
    {
     "name": "stdout",
     "output_type": "stream",
     "text": [
      "Child class initialised.\n"
     ]
    }
   ],
   "source": [
    "class Parent:\n",
    "    def __init__(self):\n",
    "        self.x = 0\n",
    "        self.y = 0\n",
    "    def parentfunc(self):\n",
    "        print(\"X : \", self.x, \"  Y : \", self.y)\n",
    "\n",
    "class Child(Parent):\n",
    "    def __init__(self):\n",
    "        super().__init__()\n",
    "        print(\"Child class initialised.\")\n",
    "    def childfunc(self):\n",
    "        print(\"Child Class function executed.\")\n",
    "    \n",
    "chldobj = Child()"
   ]
  },
  {
   "cell_type": "code",
   "execution_count": 12,
   "metadata": {},
   "outputs": [
    {
     "name": "stdout",
     "output_type": "stream",
     "text": [
      "X :  0   Y :  0\n"
     ]
    }
   ],
   "source": [
    "chldobj.parentfunc()"
   ]
  },
  {
   "cell_type": "code",
   "execution_count": 13,
   "metadata": {},
   "outputs": [
    {
     "data": {
      "text/plain": [
       "0"
      ]
     },
     "execution_count": 13,
     "metadata": {},
     "output_type": "execute_result"
    }
   ],
   "source": [
    "chldobj.x"
   ]
  },
  {
   "cell_type": "code",
   "execution_count": 14,
   "metadata": {},
   "outputs": [
    {
     "data": {
      "text/plain": [
       "0"
      ]
     },
     "execution_count": 14,
     "metadata": {},
     "output_type": "execute_result"
    }
   ],
   "source": [
    "chldobj.y"
   ]
  },
  {
   "cell_type": "markdown",
   "metadata": {},
   "source": [
    "### Exercise - Solution"
   ]
  },
  {
   "cell_type": "code",
   "execution_count": 15,
   "metadata": {},
   "outputs": [],
   "source": [
    "class Car:\n",
    "    def __init__(self, make, model, year):\n",
    "        self.make  = make\n",
    "        self.model = model\n",
    "        self.year  = year\n",
    "    def getCarDetails(self):\n",
    "        print(\"Make: \", self.make, \"\\nModel: \", self.model, \"\\nYear: \", self.year)\n",
    "\n",
    "class ElectricCar(Car):\n",
    "    def __init__(self, make, model, year, battery, mileage):\n",
    "        super().__init__(make, model, year)\n",
    "        self.battery = battery\n",
    "        self.mileage = mileage\n",
    "    def getElectricCarDetails(self):\n",
    "        print(\"Make: \", self.make, \"\\nModel: \", self.model, \"\\nYear: \", self.year, \"\\nBattery: \", self.battery, \"\\nMileage: \", self.mileage)\n",
    "\n",
    "\n",
    "elecobj = ElectricCar(\"Maruti\", \"WagonR\", 2020, 4, 600)"
   ]
  },
  {
   "cell_type": "code",
   "execution_count": 16,
   "metadata": {},
   "outputs": [
    {
     "name": "stdout",
     "output_type": "stream",
     "text": [
      "Make:  Maruti \n",
      "Model:  WagonR \n",
      "Year:  2020 \n",
      "Battery:  4 \n",
      "Mileage:  600\n"
     ]
    }
   ],
   "source": [
    "elecobj.getElectricCarDetails()"
   ]
  },
  {
   "cell_type": "code",
   "execution_count": 17,
   "metadata": {},
   "outputs": [
    {
     "name": "stdout",
     "output_type": "stream",
     "text": [
      "Make:  Maruti \n",
      "Model:  WagonR \n",
      "Year:  2020\n"
     ]
    }
   ],
   "source": [
    "elecobj.getCarDetails()"
   ]
  },
  {
   "cell_type": "markdown",
   "metadata": {},
   "source": []
  },
  {
   "cell_type": "code",
   "execution_count": 19,
   "metadata": {},
   "outputs": [
    {
     "name": "stdout",
     "output_type": "stream",
     "text": [
      "Input some information : 123\n"
     ]
    }
   ],
   "source": [
    "a = input(\"Input some information : \")"
   ]
  },
  {
   "cell_type": "code",
   "execution_count": 20,
   "metadata": {},
   "outputs": [
    {
     "data": {
      "text/plain": [
       "'123'"
      ]
     },
     "execution_count": 20,
     "metadata": {},
     "output_type": "execute_result"
    }
   ],
   "source": [
    "a"
   ]
  },
  {
   "cell_type": "code",
   "execution_count": 21,
   "metadata": {},
   "outputs": [
    {
     "data": {
      "text/plain": [
       "146"
      ]
     },
     "execution_count": 21,
     "metadata": {},
     "output_type": "execute_result"
    }
   ],
   "source": [
    "int(a) + 23"
   ]
  },
  {
   "cell_type": "code",
   "execution_count": 22,
   "metadata": {},
   "outputs": [
    {
     "ename": "TypeError",
     "evalue": "can only concatenate str (not \"int\") to str",
     "output_type": "error",
     "traceback": [
      "\u001b[1;31m---------------------------------------------------------------------------\u001b[0m",
      "\u001b[1;31mTypeError\u001b[0m                                 Traceback (most recent call last)",
      "\u001b[1;32m<ipython-input-22-1030298d4c55>\u001b[0m in \u001b[0;36m<module>\u001b[1;34m\u001b[0m\n\u001b[1;32m----> 1\u001b[1;33m \u001b[0ma\u001b[0m \u001b[1;33m+\u001b[0m \u001b[1;36m23\u001b[0m\u001b[1;33m\u001b[0m\u001b[0m\n\u001b[0m",
      "\u001b[1;31mTypeError\u001b[0m: can only concatenate str (not \"int\") to str"
     ]
    }
   ],
   "source": [
    "a + 23"
   ]
  },
  {
   "cell_type": "code",
   "execution_count": 48,
   "metadata": {},
   "outputs": [],
   "source": [
    "class AA:\n",
    "    def __init__(self):\n",
    "        print('Entering AA')\n",
    "\n",
    "class BB:\n",
    "    def __init__(self):\n",
    "        print('Entering BB')\n",
    "\n",
    "class CC(AA, BB):\n",
    "    def __init__(self):\n",
    "        print('Entering CC')\n",
    "        #super().__init__()\n",
    "        #super(BB, self).__init__()\n",
    "        AA.__init__(self)\n",
    "        BB.__init__(self)\n",
    "    def callAA(self):\n",
    "        super(AA, self).__init__()\n",
    "    def callBB(self):\n",
    "        super(AA, self).__init__()"
   ]
  },
  {
   "cell_type": "code",
   "execution_count": 49,
   "metadata": {},
   "outputs": [
    {
     "name": "stdout",
     "output_type": "stream",
     "text": [
      "Entering CC\n",
      "Entering AA\n",
      "Entering BB\n"
     ]
    }
   ],
   "source": [
    "ccobj = CC()"
   ]
  },
  {
   "cell_type": "code",
   "execution_count": 36,
   "metadata": {},
   "outputs": [
    {
     "name": "stdout",
     "output_type": "stream",
     "text": [
      "Entering BB\n"
     ]
    }
   ],
   "source": [
    "ccobj.callAA()"
   ]
  },
  {
   "cell_type": "code",
   "execution_count": null,
   "metadata": {},
   "outputs": [],
   "source": []
  }
 ],
 "metadata": {
  "kernelspec": {
   "display_name": "Python 3",
   "language": "python",
   "name": "python3"
  },
  "language_info": {
   "codemirror_mode": {
    "name": "ipython",
    "version": 3
   },
   "file_extension": ".py",
   "mimetype": "text/x-python",
   "name": "python",
   "nbconvert_exporter": "python",
   "pygments_lexer": "ipython3",
   "version": "3.7.0"
  }
 },
 "nbformat": 4,
 "nbformat_minor": 2
}
