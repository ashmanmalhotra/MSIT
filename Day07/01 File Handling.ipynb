{
 "cells": [
  {
   "cell_type": "markdown",
   "metadata": {},
   "source": [
    "# Reading and writing to files."
   ]
  },
  {
   "cell_type": "markdown",
   "metadata": {},
   "source": [
    "#### 1. Reading Files"
   ]
  },
  {
   "cell_type": "code",
   "execution_count": 1,
   "metadata": {},
   "outputs": [],
   "source": [
    "fr = open(\"DataText.txt\", mode='r')"
   ]
  },
  {
   "cell_type": "code",
   "execution_count": 2,
   "metadata": {},
   "outputs": [
    {
     "data": {
      "text/plain": [
       "'This is the first line.\\nThis is the second line.\\nThis is the third line.\\nThis is the fourth line.'"
      ]
     },
     "execution_count": 2,
     "metadata": {},
     "output_type": "execute_result"
    }
   ],
   "source": [
    "fr.read()"
   ]
  },
  {
   "cell_type": "code",
   "execution_count": 3,
   "metadata": {},
   "outputs": [
    {
     "data": {
      "text/plain": [
       "''"
      ]
     },
     "execution_count": 3,
     "metadata": {},
     "output_type": "execute_result"
    }
   ],
   "source": [
    "fr.read()"
   ]
  },
  {
   "cell_type": "code",
   "execution_count": 4,
   "metadata": {},
   "outputs": [
    {
     "data": {
      "text/plain": [
       "100"
      ]
     },
     "execution_count": 4,
     "metadata": {},
     "output_type": "execute_result"
    }
   ],
   "source": [
    "fr.tell()"
   ]
  },
  {
   "cell_type": "code",
   "execution_count": 5,
   "metadata": {},
   "outputs": [
    {
     "data": {
      "text/plain": [
       "97"
      ]
     },
     "execution_count": 5,
     "metadata": {},
     "output_type": "execute_result"
    }
   ],
   "source": [
    "filedata = 'This is the first line.\\nThis is the second line.\\nThis is the third line.\\nThis is the fourth line.'\n",
    "len(filedata)"
   ]
  },
  {
   "cell_type": "code",
   "execution_count": 6,
   "metadata": {},
   "outputs": [
    {
     "data": {
      "text/plain": [
       "''"
      ]
     },
     "execution_count": 6,
     "metadata": {},
     "output_type": "execute_result"
    }
   ],
   "source": [
    "fr.read()"
   ]
  },
  {
   "cell_type": "code",
   "execution_count": 7,
   "metadata": {},
   "outputs": [
    {
     "data": {
      "text/plain": [
       "0"
      ]
     },
     "execution_count": 7,
     "metadata": {},
     "output_type": "execute_result"
    }
   ],
   "source": [
    "fr.seek(0,0)"
   ]
  },
  {
   "cell_type": "code",
   "execution_count": 8,
   "metadata": {},
   "outputs": [
    {
     "data": {
      "text/plain": [
       "0"
      ]
     },
     "execution_count": 8,
     "metadata": {},
     "output_type": "execute_result"
    }
   ],
   "source": [
    "fr.tell()"
   ]
  },
  {
   "cell_type": "code",
   "execution_count": 9,
   "metadata": {},
   "outputs": [
    {
     "data": {
      "text/plain": [
       "'This is th'"
      ]
     },
     "execution_count": 9,
     "metadata": {},
     "output_type": "execute_result"
    }
   ],
   "source": [
    "fr.read(10)"
   ]
  },
  {
   "cell_type": "code",
   "execution_count": 10,
   "metadata": {},
   "outputs": [
    {
     "data": {
      "text/plain": [
       "'e first li'"
      ]
     },
     "execution_count": 10,
     "metadata": {},
     "output_type": "execute_result"
    }
   ],
   "source": [
    "fr.read(10)"
   ]
  },
  {
   "cell_type": "code",
   "execution_count": 11,
   "metadata": {},
   "outputs": [],
   "source": [
    "fr.close()"
   ]
  },
  {
   "cell_type": "markdown",
   "metadata": {},
   "source": [
    "#### Reading non-existing File"
   ]
  },
  {
   "cell_type": "code",
   "execution_count": 14,
   "metadata": {},
   "outputs": [
    {
     "ename": "FileNotFoundError",
     "evalue": "[Errno 2] No such file or directory: 'somefile.txt'",
     "output_type": "error",
     "traceback": [
      "\u001b[1;31m---------------------------------------------------------------------------\u001b[0m",
      "\u001b[1;31mFileNotFoundError\u001b[0m                         Traceback (most recent call last)",
      "\u001b[1;32m<ipython-input-14-7595635274e6>\u001b[0m in \u001b[0;36m<module>\u001b[1;34m\u001b[0m\n\u001b[1;32m----> 1\u001b[1;33m \u001b[0mfr\u001b[0m \u001b[1;33m=\u001b[0m \u001b[0mopen\u001b[0m\u001b[1;33m(\u001b[0m\u001b[1;34m'somefile.txt'\u001b[0m\u001b[1;33m,\u001b[0m \u001b[1;34m'r'\u001b[0m\u001b[1;33m)\u001b[0m    \u001b[1;31m# wil throw FileNotFoundError\u001b[0m\u001b[1;33m\u001b[0m\u001b[0m\n\u001b[0m",
      "\u001b[1;31mFileNotFoundError\u001b[0m: [Errno 2] No such file or directory: 'somefile.txt'"
     ]
    }
   ],
   "source": [
    "fr = open('somefile.txt', 'r')    # wil throw FileNotFoundError"
   ]
  },
  {
   "cell_type": "markdown",
   "metadata": {},
   "source": [
    "#### 2. Writing To the File"
   ]
  },
  {
   "cell_type": "code",
   "execution_count": 15,
   "metadata": {},
   "outputs": [],
   "source": [
    "fw = open(\"DataTxt.txt\", 'w')"
   ]
  },
  {
   "cell_type": "code",
   "execution_count": 16,
   "metadata": {},
   "outputs": [
    {
     "data": {
      "text/plain": [
       "78"
      ]
     },
     "execution_count": 16,
     "metadata": {},
     "output_type": "execute_result"
    }
   ],
   "source": [
    "fw.write(\"Let's write something to the file and later on we will check the file content.\")"
   ]
  },
  {
   "cell_type": "code",
   "execution_count": 17,
   "metadata": {},
   "outputs": [],
   "source": [
    "fw.close()"
   ]
  },
  {
   "cell_type": "code",
   "execution_count": 18,
   "metadata": {},
   "outputs": [
    {
     "name": "stdout",
     "output_type": "stream",
     "text": [
      "Let's write something to the file and later on we will check the file content.\n"
     ]
    }
   ],
   "source": [
    "# Let's check the content of already existing datatxt.txt file\n",
    "fr = open(\"DataTxt.txt\", mode=\"r\")\n",
    "print(fr.read())\n",
    "fr.close()"
   ]
  },
  {
   "cell_type": "code",
   "execution_count": 19,
   "metadata": {},
   "outputs": [],
   "source": [
    "# If File exists - It will be available for writing.\n",
    "# If File does not exists - It will be created for writing."
   ]
  },
  {
   "cell_type": "code",
   "execution_count": 20,
   "metadata": {},
   "outputs": [],
   "source": [
    "fw = open('NewFile.txt', 'w')"
   ]
  },
  {
   "cell_type": "code",
   "execution_count": 21,
   "metadata": {},
   "outputs": [
    {
     "data": {
      "text/plain": [
       "43"
      ]
     },
     "execution_count": 21,
     "metadata": {},
     "output_type": "execute_result"
    }
   ],
   "source": [
    "fw.write(\"This is newly created file with Write Mode.\")"
   ]
  },
  {
   "cell_type": "code",
   "execution_count": 22,
   "metadata": {},
   "outputs": [],
   "source": [
    "fw.close()"
   ]
  },
  {
   "cell_type": "markdown",
   "metadata": {},
   "source": [
    "#### 3. Appending Content to the file "
   ]
  },
  {
   "cell_type": "code",
   "execution_count": 25,
   "metadata": {},
   "outputs": [],
   "source": [
    "# Appending content to the file with mode='a'"
   ]
  },
  {
   "cell_type": "code",
   "execution_count": 26,
   "metadata": {},
   "outputs": [],
   "source": [
    "fa = open(\"NewFile.txt\", \"a\")"
   ]
  },
  {
   "cell_type": "code",
   "execution_count": 27,
   "metadata": {},
   "outputs": [
    {
     "data": {
      "text/plain": [
       "48"
      ]
     },
     "execution_count": 27,
     "metadata": {},
     "output_type": "execute_result"
    }
   ],
   "source": [
    "fa.write(\"Let's append something to the file with mode='a'\")"
   ]
  },
  {
   "cell_type": "code",
   "execution_count": 28,
   "metadata": {},
   "outputs": [],
   "source": [
    "fa.close()"
   ]
  },
  {
   "cell_type": "code",
   "execution_count": 29,
   "metadata": {},
   "outputs": [
    {
     "name": "stdout",
     "output_type": "stream",
     "text": [
      "This is newly created file with Write Mode.Let's append something to the file with mode='a'\n"
     ]
    }
   ],
   "source": [
    "# Let's verify the content of the file by reading this file.\n",
    "fr = open('NewFile.txt', 'r')\n",
    "print(fr.read())\n",
    "fr.close()"
   ]
  },
  {
   "cell_type": "markdown",
   "metadata": {},
   "source": [
    "#### 4. Both Appending and Writing to the File"
   ]
  },
  {
   "cell_type": "code",
   "execution_count": 30,
   "metadata": {},
   "outputs": [],
   "source": [
    "# The mode used is 'a+'"
   ]
  },
  {
   "cell_type": "code",
   "execution_count": 31,
   "metadata": {},
   "outputs": [
    {
     "name": "stdout",
     "output_type": "stream",
     "text": [
      "\n"
     ]
    }
   ],
   "source": [
    "# Let's verify the content of the file by reading this file.\n",
    "fr = open('NewFile.txt', 'a+')\n",
    "print(fr.read())"
   ]
  },
  {
   "cell_type": "code",
   "execution_count": 32,
   "metadata": {},
   "outputs": [
    {
     "data": {
      "text/plain": [
       "91"
      ]
     },
     "execution_count": 32,
     "metadata": {},
     "output_type": "execute_result"
    }
   ],
   "source": [
    "fr.tell()"
   ]
  },
  {
   "cell_type": "code",
   "execution_count": 33,
   "metadata": {},
   "outputs": [
    {
     "data": {
      "text/plain": [
       "0"
      ]
     },
     "execution_count": 33,
     "metadata": {},
     "output_type": "execute_result"
    }
   ],
   "source": [
    "fr.seek(0,0)"
   ]
  },
  {
   "cell_type": "code",
   "execution_count": 34,
   "metadata": {},
   "outputs": [
    {
     "data": {
      "text/plain": [
       "\"This is newly created file with Write Mode.Let's append something to the file with mode='a'\""
      ]
     },
     "execution_count": 34,
     "metadata": {},
     "output_type": "execute_result"
    }
   ],
   "source": [
    "fr.read()"
   ]
  },
  {
   "cell_type": "code",
   "execution_count": 35,
   "metadata": {},
   "outputs": [
    {
     "data": {
      "text/plain": [
       "50"
      ]
     },
     "execution_count": 35,
     "metadata": {},
     "output_type": "execute_result"
    }
   ],
   "source": [
    "fr.write(\"You can also write to this file as the mode is a+.\")"
   ]
  },
  {
   "cell_type": "code",
   "execution_count": 38,
   "metadata": {},
   "outputs": [
    {
     "data": {
      "text/plain": [
       "0"
      ]
     },
     "execution_count": 38,
     "metadata": {},
     "output_type": "execute_result"
    }
   ],
   "source": [
    "fr.seek(0,0)"
   ]
  },
  {
   "cell_type": "code",
   "execution_count": 37,
   "metadata": {},
   "outputs": [
    {
     "data": {
      "text/plain": [
       "\"This is newly created file with Write Mode.Let's append something to the file with mode='a'You can also write to this file as the mode is a+.\""
      ]
     },
     "execution_count": 37,
     "metadata": {},
     "output_type": "execute_result"
    }
   ],
   "source": [
    "fr.read()"
   ]
  },
  {
   "cell_type": "code",
   "execution_count": 39,
   "metadata": {},
   "outputs": [
    {
     "data": {
      "text/plain": [
       "0"
      ]
     },
     "execution_count": 39,
     "metadata": {},
     "output_type": "execute_result"
    }
   ],
   "source": [
    "fr.seek(0,0)"
   ]
  },
  {
   "cell_type": "code",
   "execution_count": 40,
   "metadata": {},
   "outputs": [
    {
     "data": {
      "text/plain": [
       "13"
      ]
     },
     "execution_count": 40,
     "metadata": {},
     "output_type": "execute_result"
    }
   ],
   "source": [
    "fr.write(\"New Content. \")"
   ]
  },
  {
   "cell_type": "code",
   "execution_count": 41,
   "metadata": {},
   "outputs": [
    {
     "data": {
      "text/plain": [
       "0"
      ]
     },
     "execution_count": 41,
     "metadata": {},
     "output_type": "execute_result"
    }
   ],
   "source": [
    "fr.seek(0, 0)"
   ]
  },
  {
   "cell_type": "code",
   "execution_count": 42,
   "metadata": {},
   "outputs": [
    {
     "data": {
      "text/plain": [
       "\"This is newly created file with Write Mode.Let's append something to the file with mode='a'You can also write to this file as the mode is a+.New Content. \""
      ]
     },
     "execution_count": 42,
     "metadata": {},
     "output_type": "execute_result"
    }
   ],
   "source": [
    "fr.read()"
   ]
  },
  {
   "cell_type": "code",
   "execution_count": 43,
   "metadata": {},
   "outputs": [],
   "source": [
    "fr.close()"
   ]
  },
  {
   "cell_type": "markdown",
   "metadata": {},
   "source": [
    "#### Reading File Line by Line"
   ]
  },
  {
   "cell_type": "code",
   "execution_count": 44,
   "metadata": {},
   "outputs": [],
   "source": [
    "fr = open('NewFile.txt', 'r')"
   ]
  },
  {
   "cell_type": "code",
   "execution_count": 45,
   "metadata": {},
   "outputs": [
    {
     "data": {
      "text/plain": [
       "'This is newly created file with Write Mode.\\n'"
      ]
     },
     "execution_count": 45,
     "metadata": {},
     "output_type": "execute_result"
    }
   ],
   "source": [
    "fr.readline()"
   ]
  },
  {
   "cell_type": "code",
   "execution_count": 46,
   "metadata": {},
   "outputs": [
    {
     "data": {
      "text/plain": [
       "\"Let's append something to the file with mode='a'.\\n\""
      ]
     },
     "execution_count": 46,
     "metadata": {},
     "output_type": "execute_result"
    }
   ],
   "source": [
    "fr.readline()"
   ]
  },
  {
   "cell_type": "code",
   "execution_count": 47,
   "metadata": {},
   "outputs": [
    {
     "data": {
      "text/plain": [
       "'You can also write to this file as the mode is a+.New Content. '"
      ]
     },
     "execution_count": 47,
     "metadata": {},
     "output_type": "execute_result"
    }
   ],
   "source": [
    "fr.readline()"
   ]
  },
  {
   "cell_type": "code",
   "execution_count": 48,
   "metadata": {},
   "outputs": [
    {
     "data": {
      "text/plain": [
       "''"
      ]
     },
     "execution_count": 48,
     "metadata": {},
     "output_type": "execute_result"
    }
   ],
   "source": [
    "fr.readline()"
   ]
  },
  {
   "cell_type": "markdown",
   "metadata": {},
   "source": [
    "#### 1. Exercise: Read the content of one file and write it to another."
   ]
  },
  {
   "cell_type": "markdown",
   "metadata": {},
   "source": [
    "#### 2. Exercise: \n",
    "- Ask user the file name to read.\n",
    "- Ask user the new file name.\n",
    "- Write content from read file to write file. "
   ]
  },
  {
   "cell_type": "markdown",
   "metadata": {},
   "source": [
    "#### 3. Exercise:\n",
    "- Take input from user to create a file.\n",
    "- Take content input from the user.\n",
    "- Save content input by user to the file."
   ]
  },
  {
   "cell_type": "markdown",
   "metadata": {},
   "source": [
    "## Reading Comma Seperated File"
   ]
  },
  {
   "cell_type": "code",
   "execution_count": 49,
   "metadata": {},
   "outputs": [],
   "source": [
    "fr = open('summer.csv', 'r')"
   ]
  },
  {
   "cell_type": "code",
   "execution_count": 50,
   "metadata": {},
   "outputs": [
    {
     "data": {
      "text/plain": [
       "'Year,City,Sport,Discipline,Athlete,Country,Gender,Event,Medal\\n1896,Athens,Aquatics,Swimming,\"HAJOS, Alfred\",HUN,Men,100M Freestyle,Gold\\n1896,Athens,Aquatics,Swimming,\"HERSCHMANN, Otto\",AUT,Men,100M Freestyle,Silver\\n1896,Athens,Aquatics,Swimming,\"DRIVAS, Dimitrios\",GRE,Men,100M Freestyle For Sailors,Bronze\\n1896,Athens,Aquatics,Swimming,\"MALOKINIS, Ioannis\",GRE,Men,100M Freestyle For Sailors,Gold\\n1896,Athens,Aquatics,Swimming,\"CHASAPIS, Spiridon\",GRE,Men,100M Freestyle For Sailors,Silver\\n1896,Athens,Aquatics,Swimming,\"CHOROPHAS, Efstathios\",GRE,Men,1200M Freestyle,Bronze\\n1896,Athens,Aquatics,Swimming,\"HAJOS, Alfred\",HUN,Men,1200M Freestyle,Gold\\n1896,Athens,Aquatics,Swimming,\"ANDREOU, Joannis\",GRE,Men,1200M Freestyle,Silver\\n1896,Athens,Aquatics,Swimming,\"CHOROPHAS, Efstathios\",GRE,Men,400M Freestyle,Bronze\\n1896,Athens,Aquatics,Swimming,\"NEUMANN, Paul\",AUT,Men,400M Freestyle,Gold\\n1896,Athens,Aquatics,Swimming,\"PEPANOS, Antonios\",GRE,Men,400M Freestyle,Silver\\n1896,Athens,Athletics,Athletics,\"LANE, Francis\",USA,Men,100M,Bronze\\n1896,Athens,Athletics,Athletics,\"SZOKOLYI, Alajos\",HUN,Men,100M,Bronze\\n1896,Athens,Athletics,Athletics,\"BURKE, Thomas\",USA,Men,100M,Gold\\n1896,Athens,Athletics,Athletics,\"HOFMANN, Fritz\",GER,Men,100M,Silver\\n1896,Athens,Athletics,Athletics,\"CURTIS, Thomas\",USA,Men,110M Hurdles,Gold\\n1896,Athens,Athletics,Athletics,\"GOULDING, Grantley\",GBR,Men,110M Hurdles,Silver\\n1896,Athens,Athletics,Athletics,\"LERMUSIAUX, Albin\",FRA,Men,1500M,Bronze\\n1896,Athens,Athletics,Athletics,\"FLACK, Edwin\",AUS,Men,1500M,Gold\\n1896,Athens,Athletics,Athletics,\"BLAKE, Arthur\",USA,Men,1500M,Silver\\n1896,Athens,Athletics,Athletics,\"GMELIN, Charles\",GBR,Men,400M,Bronze\\n1896,Athens,Athletics,Athletics,\"BURKE, Thomas\",USA,Men,400M,Gold\\n1896,Athens,Athletics,Athletics,\"JAMISON, Herbert\",USA,Men,400M,Silver\\n1896,Athens,Athletics,Athletics,\"GOLEMIS, Dimitrios\",GRE,Men,800M,Bronze\\n1896,Athens,Athletics,Athletics,\"FLACK, Edwin\",AUS,Men,800M,Gold\\n1896,Athens,Athletics,Athletics,\"DANI, Nandor\",HUN,Men,800M,Silver\\n1896,Athens,Athletics,Athletics,\"VERSIS, Sotirios\",GRE,Men,Discus Throw,Bronze\\n1896,Athens,Athletics,Athletics,\"GARRETT, Robert\",USA,Men,Discus Throw,Gold\\n1896,Athens,Athletics,Athletics,\"PARASKEVOPOULOS, Panagiotis\",GRE,Men,Discus Throw,Silver\\n1896,Athens,Athletics,Athletics,\"CLARK, Ellery\",USA,Men,High Jump,Gold\\n1896,Athens,Athletics,Athletics,\"CONNOLLY, James\",USA,Men,High Jump,Silver\\n1896,Athens,Athletics,Athletics,\"GARRETT, Robert\",USA,Men,High Jump,Silver\\n1896,Athens,Athletics,Athletics,\"CONNOLLY, James\",USA,Men,Long Jump,Bronze\\n1896,Athens,Athletics,Athletics,\"CLARK, Ellery\",USA,Men,Long Jump,Gold\\n1896,Athens,Athletics,Athletics,\"GARRETT, Robert\",USA,Men,Long Jump,Silver\\n1896,Athens,Athletics,Athletics,\"KELLNER, Gyula\",HUN,Men,Marathon,Bronze\\n1896,Athens,Athletics,Athletics,\"LOUIS, Spyridon\",GRE,Men,Marathon,Gold\\n1896,Athens,Athletics,Athletics,\"VASILAKOS, Kharilaos\",GRE,Men,Marathon,Silver\\n1896,Athens,Athletics,Athletics,\"DAMASKOS, Evangelos\",GRE,Men,Pole Vault,Bronze\\n1896,Athens,Athletics,Athletics,\"THEODOROPOULOS, Ioannis\",GRE,Men,Pole Vault,Bronze\\n1896,Athens,Athletics,Athletics,\"HOYT, William Welles\",USA,Men,Pole Vault,Gold\\n1896,Athens,Athletics,Athletics,\"TYLER, Albert\",USA,Men,Pole Vault,Silver\\n1896,Athens,Athletics,Athletics,\"PAPASIDERIS, Georgios\",GRE,Men,Shot Put,Bronze\\n1896,Athens,Athletics,Athletics,\"GARRETT, Robert\",USA,Men,Shot Put,Gold\\n1896,Athens,Athletics,Athletics,\"GOUSKOS, Miltiadis\",GRE,Men,Shot Put,Silver\\n1896,Athens,Athletics,Athletics,\"PERSAKIS, Ioannis\",GRE,Men,Triple Jump,Bronze\\n1896,Athens,Athletics,Athletics,\"CONNOLLY, James\",USA,Men,Triple Jump,Gold\\n1896,Athens,Athletics,Athletics,\"TUFFERI, Alexandre\",FRA,Men,Triple Jump,Silver\\n1896,Athens,Cycling,Cycling Road,\"BATTEL, Edward\",GBR,Men,Individual Road Race,Bronze\\n1896,Athens,Cycling,Cycling Road,\"KONSTANTINIDIS, Aristidis\",GRE,Men,Individual Road Race,Gold\\n'"
      ]
     },
     "execution_count": 50,
     "metadata": {},
     "output_type": "execute_result"
    }
   ],
   "source": [
    "fr.read()"
   ]
  },
  {
   "cell_type": "code",
   "execution_count": 51,
   "metadata": {},
   "outputs": [
    {
     "data": {
      "text/plain": [
       "''"
      ]
     },
     "execution_count": 51,
     "metadata": {},
     "output_type": "execute_result"
    }
   ],
   "source": [
    "fr.read()"
   ]
  },
  {
   "cell_type": "code",
   "execution_count": 52,
   "metadata": {},
   "outputs": [
    {
     "data": {
      "text/plain": [
       "0"
      ]
     },
     "execution_count": 52,
     "metadata": {},
     "output_type": "execute_result"
    }
   ],
   "source": [
    "fr.seek(0,0)"
   ]
  },
  {
   "cell_type": "code",
   "execution_count": 53,
   "metadata": {},
   "outputs": [
    {
     "data": {
      "text/plain": [
       "'Year,City,Sport,Discipline,Athlete,Country,Gender,Event,Medal\\n'"
      ]
     },
     "execution_count": 53,
     "metadata": {},
     "output_type": "execute_result"
    }
   ],
   "source": [
    "fr.readline()"
   ]
  },
  {
   "cell_type": "code",
   "execution_count": 54,
   "metadata": {},
   "outputs": [
    {
     "data": {
      "text/plain": [
       "'1896,Athens,Aquatics,Swimming,\"HAJOS, Alfred\",HUN,Men,100M Freestyle,Gold\\n'"
      ]
     },
     "execution_count": 54,
     "metadata": {},
     "output_type": "execute_result"
    }
   ],
   "source": [
    "fr.readline()"
   ]
  },
  {
   "cell_type": "code",
   "execution_count": 55,
   "metadata": {},
   "outputs": [
    {
     "data": {
      "text/plain": [
       "'1896,Athens,Aquatics,Swimming,\"HERSCHMANN, Otto\",AUT,Men,100M Freestyle,Silver\\n'"
      ]
     },
     "execution_count": 55,
     "metadata": {},
     "output_type": "execute_result"
    }
   ],
   "source": [
    "fr.readline()"
   ]
  },
  {
   "cell_type": "code",
   "execution_count": 58,
   "metadata": {},
   "outputs": [
    {
     "data": {
      "text/plain": [
       "0"
      ]
     },
     "execution_count": 58,
     "metadata": {},
     "output_type": "execute_result"
    }
   ],
   "source": [
    "fr.seek(0,0)"
   ]
  },
  {
   "cell_type": "code",
   "execution_count": 59,
   "metadata": {},
   "outputs": [],
   "source": [
    "line = fr.readline()"
   ]
  },
  {
   "cell_type": "code",
   "execution_count": 60,
   "metadata": {},
   "outputs": [
    {
     "data": {
      "text/plain": [
       "'Year,City,Sport,Discipline,Athlete,Country,Gender,Event,Medal\\n'"
      ]
     },
     "execution_count": 60,
     "metadata": {},
     "output_type": "execute_result"
    }
   ],
   "source": [
    "line"
   ]
  },
  {
   "cell_type": "code",
   "execution_count": 61,
   "metadata": {},
   "outputs": [
    {
     "data": {
      "text/plain": [
       "0"
      ]
     },
     "execution_count": 61,
     "metadata": {},
     "output_type": "execute_result"
    }
   ],
   "source": [
    "fr.seek(0,0)"
   ]
  },
  {
   "cell_type": "code",
   "execution_count": 62,
   "metadata": {},
   "outputs": [
    {
     "name": "stdout",
     "output_type": "stream",
     "text": [
      "Year,City,Sport,Discipline,Athlete,Country,Gender,Event,Medal\n",
      "\n",
      "1896,Athens,Aquatics,Swimming,\"HAJOS, Alfred\",HUN,Men,100M Freestyle,Gold\n",
      "\n",
      "1896,Athens,Aquatics,Swimming,\"HERSCHMANN, Otto\",AUT,Men,100M Freestyle,Silver\n",
      "\n",
      "1896,Athens,Aquatics,Swimming,\"DRIVAS, Dimitrios\",GRE,Men,100M Freestyle For Sailors,Bronze\n",
      "\n",
      "1896,Athens,Aquatics,Swimming,\"MALOKINIS, Ioannis\",GRE,Men,100M Freestyle For Sailors,Gold\n",
      "\n",
      "1896,Athens,Aquatics,Swimming,\"CHASAPIS, Spiridon\",GRE,Men,100M Freestyle For Sailors,Silver\n",
      "\n",
      "1896,Athens,Aquatics,Swimming,\"CHOROPHAS, Efstathios\",GRE,Men,1200M Freestyle,Bronze\n",
      "\n",
      "1896,Athens,Aquatics,Swimming,\"HAJOS, Alfred\",HUN,Men,1200M Freestyle,Gold\n",
      "\n",
      "1896,Athens,Aquatics,Swimming,\"ANDREOU, Joannis\",GRE,Men,1200M Freestyle,Silver\n",
      "\n",
      "1896,Athens,Aquatics,Swimming,\"CHOROPHAS, Efstathios\",GRE,Men,400M Freestyle,Bronze\n",
      "\n",
      "1896,Athens,Aquatics,Swimming,\"NEUMANN, Paul\",AUT,Men,400M Freestyle,Gold\n",
      "\n",
      "1896,Athens,Aquatics,Swimming,\"PEPANOS, Antonios\",GRE,Men,400M Freestyle,Silver\n",
      "\n",
      "1896,Athens,Athletics,Athletics,\"LANE, Francis\",USA,Men,100M,Bronze\n",
      "\n",
      "1896,Athens,Athletics,Athletics,\"SZOKOLYI, Alajos\",HUN,Men,100M,Bronze\n",
      "\n",
      "1896,Athens,Athletics,Athletics,\"BURKE, Thomas\",USA,Men,100M,Gold\n",
      "\n",
      "1896,Athens,Athletics,Athletics,\"HOFMANN, Fritz\",GER,Men,100M,Silver\n",
      "\n",
      "1896,Athens,Athletics,Athletics,\"CURTIS, Thomas\",USA,Men,110M Hurdles,Gold\n",
      "\n",
      "1896,Athens,Athletics,Athletics,\"GOULDING, Grantley\",GBR,Men,110M Hurdles,Silver\n",
      "\n",
      "1896,Athens,Athletics,Athletics,\"LERMUSIAUX, Albin\",FRA,Men,1500M,Bronze\n",
      "\n",
      "1896,Athens,Athletics,Athletics,\"FLACK, Edwin\",AUS,Men,1500M,Gold\n",
      "\n",
      "1896,Athens,Athletics,Athletics,\"BLAKE, Arthur\",USA,Men,1500M,Silver\n",
      "\n",
      "1896,Athens,Athletics,Athletics,\"GMELIN, Charles\",GBR,Men,400M,Bronze\n",
      "\n",
      "1896,Athens,Athletics,Athletics,\"BURKE, Thomas\",USA,Men,400M,Gold\n",
      "\n",
      "1896,Athens,Athletics,Athletics,\"JAMISON, Herbert\",USA,Men,400M,Silver\n",
      "\n",
      "1896,Athens,Athletics,Athletics,\"GOLEMIS, Dimitrios\",GRE,Men,800M,Bronze\n",
      "\n",
      "1896,Athens,Athletics,Athletics,\"FLACK, Edwin\",AUS,Men,800M,Gold\n",
      "\n",
      "1896,Athens,Athletics,Athletics,\"DANI, Nandor\",HUN,Men,800M,Silver\n",
      "\n",
      "1896,Athens,Athletics,Athletics,\"VERSIS, Sotirios\",GRE,Men,Discus Throw,Bronze\n",
      "\n",
      "1896,Athens,Athletics,Athletics,\"GARRETT, Robert\",USA,Men,Discus Throw,Gold\n",
      "\n",
      "1896,Athens,Athletics,Athletics,\"PARASKEVOPOULOS, Panagiotis\",GRE,Men,Discus Throw,Silver\n",
      "\n",
      "1896,Athens,Athletics,Athletics,\"CLARK, Ellery\",USA,Men,High Jump,Gold\n",
      "\n",
      "1896,Athens,Athletics,Athletics,\"CONNOLLY, James\",USA,Men,High Jump,Silver\n",
      "\n",
      "1896,Athens,Athletics,Athletics,\"GARRETT, Robert\",USA,Men,High Jump,Silver\n",
      "\n",
      "1896,Athens,Athletics,Athletics,\"CONNOLLY, James\",USA,Men,Long Jump,Bronze\n",
      "\n",
      "1896,Athens,Athletics,Athletics,\"CLARK, Ellery\",USA,Men,Long Jump,Gold\n",
      "\n",
      "1896,Athens,Athletics,Athletics,\"GARRETT, Robert\",USA,Men,Long Jump,Silver\n",
      "\n",
      "1896,Athens,Athletics,Athletics,\"KELLNER, Gyula\",HUN,Men,Marathon,Bronze\n",
      "\n",
      "1896,Athens,Athletics,Athletics,\"LOUIS, Spyridon\",GRE,Men,Marathon,Gold\n",
      "\n",
      "1896,Athens,Athletics,Athletics,\"VASILAKOS, Kharilaos\",GRE,Men,Marathon,Silver\n",
      "\n",
      "1896,Athens,Athletics,Athletics,\"DAMASKOS, Evangelos\",GRE,Men,Pole Vault,Bronze\n",
      "\n",
      "1896,Athens,Athletics,Athletics,\"THEODOROPOULOS, Ioannis\",GRE,Men,Pole Vault,Bronze\n",
      "\n",
      "1896,Athens,Athletics,Athletics,\"HOYT, William Welles\",USA,Men,Pole Vault,Gold\n",
      "\n",
      "1896,Athens,Athletics,Athletics,\"TYLER, Albert\",USA,Men,Pole Vault,Silver\n",
      "\n",
      "1896,Athens,Athletics,Athletics,\"PAPASIDERIS, Georgios\",GRE,Men,Shot Put,Bronze\n",
      "\n",
      "1896,Athens,Athletics,Athletics,\"GARRETT, Robert\",USA,Men,Shot Put,Gold\n",
      "\n",
      "1896,Athens,Athletics,Athletics,\"GOUSKOS, Miltiadis\",GRE,Men,Shot Put,Silver\n",
      "\n",
      "1896,Athens,Athletics,Athletics,\"PERSAKIS, Ioannis\",GRE,Men,Triple Jump,Bronze\n",
      "\n",
      "1896,Athens,Athletics,Athletics,\"CONNOLLY, James\",USA,Men,Triple Jump,Gold\n",
      "\n",
      "1896,Athens,Athletics,Athletics,\"TUFFERI, Alexandre\",FRA,Men,Triple Jump,Silver\n",
      "\n",
      "1896,Athens,Cycling,Cycling Road,\"BATTEL, Edward\",GBR,Men,Individual Road Race,Bronze\n",
      "\n",
      "1896,Athens,Cycling,Cycling Road,\"KONSTANTINIDIS, Aristidis\",GRE,Men,Individual Road Race,Gold\n",
      "\n"
     ]
    }
   ],
   "source": [
    "for line in fr:\n",
    "    print(line)"
   ]
  },
  {
   "cell_type": "code",
   "execution_count": 63,
   "metadata": {},
   "outputs": [],
   "source": [
    "fr.seek(0,0)\n",
    "line = fr.readline()"
   ]
  },
  {
   "cell_type": "code",
   "execution_count": 64,
   "metadata": {},
   "outputs": [
    {
     "data": {
      "text/plain": [
       "'Year,City,Sport,Discipline,Athlete,Country,Gender,Event,Medal\\n'"
      ]
     },
     "execution_count": 64,
     "metadata": {},
     "output_type": "execute_result"
    }
   ],
   "source": [
    "line"
   ]
  },
  {
   "cell_type": "code",
   "execution_count": 65,
   "metadata": {},
   "outputs": [
    {
     "data": {
      "text/plain": [
       "'Year,City,Sport,Discipline,Athlete,Country,Gender,Event,Medal'"
      ]
     },
     "execution_count": 65,
     "metadata": {},
     "output_type": "execute_result"
    }
   ],
   "source": [
    "line[:-1]"
   ]
  },
  {
   "cell_type": "code",
   "execution_count": 66,
   "metadata": {},
   "outputs": [
    {
     "name": "stdout",
     "output_type": "stream",
     "text": [
      "Year,City,Sport,Discipline,Athlete,Country,Gender,Event,Medal\n",
      "1896,Athens,Aquatics,Swimming,\"HAJOS, Alfred\",HUN,Men,100M Freestyle,Gold\n",
      "1896,Athens,Aquatics,Swimming,\"HERSCHMANN, Otto\",AUT,Men,100M Freestyle,Silver\n",
      "1896,Athens,Aquatics,Swimming,\"DRIVAS, Dimitrios\",GRE,Men,100M Freestyle For Sailors,Bronze\n",
      "1896,Athens,Aquatics,Swimming,\"MALOKINIS, Ioannis\",GRE,Men,100M Freestyle For Sailors,Gold\n",
      "1896,Athens,Aquatics,Swimming,\"CHASAPIS, Spiridon\",GRE,Men,100M Freestyle For Sailors,Silver\n",
      "1896,Athens,Aquatics,Swimming,\"CHOROPHAS, Efstathios\",GRE,Men,1200M Freestyle,Bronze\n",
      "1896,Athens,Aquatics,Swimming,\"HAJOS, Alfred\",HUN,Men,1200M Freestyle,Gold\n",
      "1896,Athens,Aquatics,Swimming,\"ANDREOU, Joannis\",GRE,Men,1200M Freestyle,Silver\n",
      "1896,Athens,Aquatics,Swimming,\"CHOROPHAS, Efstathios\",GRE,Men,400M Freestyle,Bronze\n",
      "1896,Athens,Aquatics,Swimming,\"NEUMANN, Paul\",AUT,Men,400M Freestyle,Gold\n",
      "1896,Athens,Aquatics,Swimming,\"PEPANOS, Antonios\",GRE,Men,400M Freestyle,Silver\n",
      "1896,Athens,Athletics,Athletics,\"LANE, Francis\",USA,Men,100M,Bronze\n",
      "1896,Athens,Athletics,Athletics,\"SZOKOLYI, Alajos\",HUN,Men,100M,Bronze\n",
      "1896,Athens,Athletics,Athletics,\"BURKE, Thomas\",USA,Men,100M,Gold\n",
      "1896,Athens,Athletics,Athletics,\"HOFMANN, Fritz\",GER,Men,100M,Silver\n",
      "1896,Athens,Athletics,Athletics,\"CURTIS, Thomas\",USA,Men,110M Hurdles,Gold\n",
      "1896,Athens,Athletics,Athletics,\"GOULDING, Grantley\",GBR,Men,110M Hurdles,Silver\n",
      "1896,Athens,Athletics,Athletics,\"LERMUSIAUX, Albin\",FRA,Men,1500M,Bronze\n",
      "1896,Athens,Athletics,Athletics,\"FLACK, Edwin\",AUS,Men,1500M,Gold\n",
      "1896,Athens,Athletics,Athletics,\"BLAKE, Arthur\",USA,Men,1500M,Silver\n",
      "1896,Athens,Athletics,Athletics,\"GMELIN, Charles\",GBR,Men,400M,Bronze\n",
      "1896,Athens,Athletics,Athletics,\"BURKE, Thomas\",USA,Men,400M,Gold\n",
      "1896,Athens,Athletics,Athletics,\"JAMISON, Herbert\",USA,Men,400M,Silver\n",
      "1896,Athens,Athletics,Athletics,\"GOLEMIS, Dimitrios\",GRE,Men,800M,Bronze\n",
      "1896,Athens,Athletics,Athletics,\"FLACK, Edwin\",AUS,Men,800M,Gold\n",
      "1896,Athens,Athletics,Athletics,\"DANI, Nandor\",HUN,Men,800M,Silver\n",
      "1896,Athens,Athletics,Athletics,\"VERSIS, Sotirios\",GRE,Men,Discus Throw,Bronze\n",
      "1896,Athens,Athletics,Athletics,\"GARRETT, Robert\",USA,Men,Discus Throw,Gold\n",
      "1896,Athens,Athletics,Athletics,\"PARASKEVOPOULOS, Panagiotis\",GRE,Men,Discus Throw,Silver\n",
      "1896,Athens,Athletics,Athletics,\"CLARK, Ellery\",USA,Men,High Jump,Gold\n",
      "1896,Athens,Athletics,Athletics,\"CONNOLLY, James\",USA,Men,High Jump,Silver\n",
      "1896,Athens,Athletics,Athletics,\"GARRETT, Robert\",USA,Men,High Jump,Silver\n",
      "1896,Athens,Athletics,Athletics,\"CONNOLLY, James\",USA,Men,Long Jump,Bronze\n",
      "1896,Athens,Athletics,Athletics,\"CLARK, Ellery\",USA,Men,Long Jump,Gold\n",
      "1896,Athens,Athletics,Athletics,\"GARRETT, Robert\",USA,Men,Long Jump,Silver\n",
      "1896,Athens,Athletics,Athletics,\"KELLNER, Gyula\",HUN,Men,Marathon,Bronze\n",
      "1896,Athens,Athletics,Athletics,\"LOUIS, Spyridon\",GRE,Men,Marathon,Gold\n",
      "1896,Athens,Athletics,Athletics,\"VASILAKOS, Kharilaos\",GRE,Men,Marathon,Silver\n",
      "1896,Athens,Athletics,Athletics,\"DAMASKOS, Evangelos\",GRE,Men,Pole Vault,Bronze\n",
      "1896,Athens,Athletics,Athletics,\"THEODOROPOULOS, Ioannis\",GRE,Men,Pole Vault,Bronze\n",
      "1896,Athens,Athletics,Athletics,\"HOYT, William Welles\",USA,Men,Pole Vault,Gold\n",
      "1896,Athens,Athletics,Athletics,\"TYLER, Albert\",USA,Men,Pole Vault,Silver\n",
      "1896,Athens,Athletics,Athletics,\"PAPASIDERIS, Georgios\",GRE,Men,Shot Put,Bronze\n",
      "1896,Athens,Athletics,Athletics,\"GARRETT, Robert\",USA,Men,Shot Put,Gold\n",
      "1896,Athens,Athletics,Athletics,\"GOUSKOS, Miltiadis\",GRE,Men,Shot Put,Silver\n",
      "1896,Athens,Athletics,Athletics,\"PERSAKIS, Ioannis\",GRE,Men,Triple Jump,Bronze\n",
      "1896,Athens,Athletics,Athletics,\"CONNOLLY, James\",USA,Men,Triple Jump,Gold\n",
      "1896,Athens,Athletics,Athletics,\"TUFFERI, Alexandre\",FRA,Men,Triple Jump,Silver\n",
      "1896,Athens,Cycling,Cycling Road,\"BATTEL, Edward\",GBR,Men,Individual Road Race,Bronze\n",
      "1896,Athens,Cycling,Cycling Road,\"KONSTANTINIDIS, Aristidis\",GRE,Men,Individual Road Race,Gold\n"
     ]
    }
   ],
   "source": [
    "fr.seek(0,0)\n",
    "for line in fr:\n",
    "    print(line[:-1])"
   ]
  },
  {
   "cell_type": "code",
   "execution_count": 68,
   "metadata": {},
   "outputs": [
    {
     "name": "stdout",
     "output_type": "stream",
     "text": [
      "[['Year', 'City', 'Sport', 'Discipline', 'Athlete', 'Country', 'Gender', 'Event', 'Medal'], ['1896', 'Athens', 'Aquatics', 'Swimming', '\"HAJOS', ' Alfred\"', 'HUN', 'Men', '100M Freestyle', 'Gold'], ['1896', 'Athens', 'Aquatics', 'Swimming', '\"HERSCHMANN', ' Otto\"', 'AUT', 'Men', '100M Freestyle', 'Silver'], ['1896', 'Athens', 'Aquatics', 'Swimming', '\"DRIVAS', ' Dimitrios\"', 'GRE', 'Men', '100M Freestyle For Sailors', 'Bronze'], ['1896', 'Athens', 'Aquatics', 'Swimming', '\"MALOKINIS', ' Ioannis\"', 'GRE', 'Men', '100M Freestyle For Sailors', 'Gold'], ['1896', 'Athens', 'Aquatics', 'Swimming', '\"CHASAPIS', ' Spiridon\"', 'GRE', 'Men', '100M Freestyle For Sailors', 'Silver'], ['1896', 'Athens', 'Aquatics', 'Swimming', '\"CHOROPHAS', ' Efstathios\"', 'GRE', 'Men', '1200M Freestyle', 'Bronze'], ['1896', 'Athens', 'Aquatics', 'Swimming', '\"HAJOS', ' Alfred\"', 'HUN', 'Men', '1200M Freestyle', 'Gold'], ['1896', 'Athens', 'Aquatics', 'Swimming', '\"ANDREOU', ' Joannis\"', 'GRE', 'Men', '1200M Freestyle', 'Silver'], ['1896', 'Athens', 'Aquatics', 'Swimming', '\"CHOROPHAS', ' Efstathios\"', 'GRE', 'Men', '400M Freestyle', 'Bronze'], ['1896', 'Athens', 'Aquatics', 'Swimming', '\"NEUMANN', ' Paul\"', 'AUT', 'Men', '400M Freestyle', 'Gold'], ['1896', 'Athens', 'Aquatics', 'Swimming', '\"PEPANOS', ' Antonios\"', 'GRE', 'Men', '400M Freestyle', 'Silver'], ['1896', 'Athens', 'Athletics', 'Athletics', '\"LANE', ' Francis\"', 'USA', 'Men', '100M', 'Bronze'], ['1896', 'Athens', 'Athletics', 'Athletics', '\"SZOKOLYI', ' Alajos\"', 'HUN', 'Men', '100M', 'Bronze'], ['1896', 'Athens', 'Athletics', 'Athletics', '\"BURKE', ' Thomas\"', 'USA', 'Men', '100M', 'Gold'], ['1896', 'Athens', 'Athletics', 'Athletics', '\"HOFMANN', ' Fritz\"', 'GER', 'Men', '100M', 'Silver'], ['1896', 'Athens', 'Athletics', 'Athletics', '\"CURTIS', ' Thomas\"', 'USA', 'Men', '110M Hurdles', 'Gold'], ['1896', 'Athens', 'Athletics', 'Athletics', '\"GOULDING', ' Grantley\"', 'GBR', 'Men', '110M Hurdles', 'Silver'], ['1896', 'Athens', 'Athletics', 'Athletics', '\"LERMUSIAUX', ' Albin\"', 'FRA', 'Men', '1500M', 'Bronze'], ['1896', 'Athens', 'Athletics', 'Athletics', '\"FLACK', ' Edwin\"', 'AUS', 'Men', '1500M', 'Gold'], ['1896', 'Athens', 'Athletics', 'Athletics', '\"BLAKE', ' Arthur\"', 'USA', 'Men', '1500M', 'Silver'], ['1896', 'Athens', 'Athletics', 'Athletics', '\"GMELIN', ' Charles\"', 'GBR', 'Men', '400M', 'Bronze'], ['1896', 'Athens', 'Athletics', 'Athletics', '\"BURKE', ' Thomas\"', 'USA', 'Men', '400M', 'Gold'], ['1896', 'Athens', 'Athletics', 'Athletics', '\"JAMISON', ' Herbert\"', 'USA', 'Men', '400M', 'Silver'], ['1896', 'Athens', 'Athletics', 'Athletics', '\"GOLEMIS', ' Dimitrios\"', 'GRE', 'Men', '800M', 'Bronze'], ['1896', 'Athens', 'Athletics', 'Athletics', '\"FLACK', ' Edwin\"', 'AUS', 'Men', '800M', 'Gold'], ['1896', 'Athens', 'Athletics', 'Athletics', '\"DANI', ' Nandor\"', 'HUN', 'Men', '800M', 'Silver'], ['1896', 'Athens', 'Athletics', 'Athletics', '\"VERSIS', ' Sotirios\"', 'GRE', 'Men', 'Discus Throw', 'Bronze'], ['1896', 'Athens', 'Athletics', 'Athletics', '\"GARRETT', ' Robert\"', 'USA', 'Men', 'Discus Throw', 'Gold'], ['1896', 'Athens', 'Athletics', 'Athletics', '\"PARASKEVOPOULOS', ' Panagiotis\"', 'GRE', 'Men', 'Discus Throw', 'Silver'], ['1896', 'Athens', 'Athletics', 'Athletics', '\"CLARK', ' Ellery\"', 'USA', 'Men', 'High Jump', 'Gold'], ['1896', 'Athens', 'Athletics', 'Athletics', '\"CONNOLLY', ' James\"', 'USA', 'Men', 'High Jump', 'Silver'], ['1896', 'Athens', 'Athletics', 'Athletics', '\"GARRETT', ' Robert\"', 'USA', 'Men', 'High Jump', 'Silver'], ['1896', 'Athens', 'Athletics', 'Athletics', '\"CONNOLLY', ' James\"', 'USA', 'Men', 'Long Jump', 'Bronze'], ['1896', 'Athens', 'Athletics', 'Athletics', '\"CLARK', ' Ellery\"', 'USA', 'Men', 'Long Jump', 'Gold'], ['1896', 'Athens', 'Athletics', 'Athletics', '\"GARRETT', ' Robert\"', 'USA', 'Men', 'Long Jump', 'Silver'], ['1896', 'Athens', 'Athletics', 'Athletics', '\"KELLNER', ' Gyula\"', 'HUN', 'Men', 'Marathon', 'Bronze'], ['1896', 'Athens', 'Athletics', 'Athletics', '\"LOUIS', ' Spyridon\"', 'GRE', 'Men', 'Marathon', 'Gold'], ['1896', 'Athens', 'Athletics', 'Athletics', '\"VASILAKOS', ' Kharilaos\"', 'GRE', 'Men', 'Marathon', 'Silver'], ['1896', 'Athens', 'Athletics', 'Athletics', '\"DAMASKOS', ' Evangelos\"', 'GRE', 'Men', 'Pole Vault', 'Bronze'], ['1896', 'Athens', 'Athletics', 'Athletics', '\"THEODOROPOULOS', ' Ioannis\"', 'GRE', 'Men', 'Pole Vault', 'Bronze'], ['1896', 'Athens', 'Athletics', 'Athletics', '\"HOYT', ' William Welles\"', 'USA', 'Men', 'Pole Vault', 'Gold'], ['1896', 'Athens', 'Athletics', 'Athletics', '\"TYLER', ' Albert\"', 'USA', 'Men', 'Pole Vault', 'Silver'], ['1896', 'Athens', 'Athletics', 'Athletics', '\"PAPASIDERIS', ' Georgios\"', 'GRE', 'Men', 'Shot Put', 'Bronze'], ['1896', 'Athens', 'Athletics', 'Athletics', '\"GARRETT', ' Robert\"', 'USA', 'Men', 'Shot Put', 'Gold'], ['1896', 'Athens', 'Athletics', 'Athletics', '\"GOUSKOS', ' Miltiadis\"', 'GRE', 'Men', 'Shot Put', 'Silver'], ['1896', 'Athens', 'Athletics', 'Athletics', '\"PERSAKIS', ' Ioannis\"', 'GRE', 'Men', 'Triple Jump', 'Bronze'], ['1896', 'Athens', 'Athletics', 'Athletics', '\"CONNOLLY', ' James\"', 'USA', 'Men', 'Triple Jump', 'Gold'], ['1896', 'Athens', 'Athletics', 'Athletics', '\"TUFFERI', ' Alexandre\"', 'FRA', 'Men', 'Triple Jump', 'Silver'], ['1896', 'Athens', 'Cycling', 'Cycling Road', '\"BATTEL', ' Edward\"', 'GBR', 'Men', 'Individual Road Race', 'Bronze'], ['1896', 'Athens', 'Cycling', 'Cycling Road', '\"KONSTANTINIDIS', ' Aristidis\"', 'GRE', 'Men', 'Individual Road Race', 'Gold']]\n"
     ]
    }
   ],
   "source": [
    "fr.seek(0,0)\n",
    "datalist = []\n",
    "for line in fr:\n",
    "    datalist.append(line[:-1].split(','))\n",
    "print(datalist)"
   ]
  },
  {
   "cell_type": "code",
   "execution_count": null,
   "metadata": {},
   "outputs": [],
   "source": []
  }
 ],
 "metadata": {
  "kernelspec": {
   "display_name": "Python 3",
   "language": "python",
   "name": "python3"
  },
  "language_info": {
   "codemirror_mode": {
    "name": "ipython",
    "version": 3
   },
   "file_extension": ".py",
   "mimetype": "text/x-python",
   "name": "python",
   "nbconvert_exporter": "python",
   "pygments_lexer": "ipython3",
   "version": "3.7.0"
  }
 },
 "nbformat": 4,
 "nbformat_minor": 2
}
